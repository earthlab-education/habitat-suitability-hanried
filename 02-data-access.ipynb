{
  "cells": [
    {
      "cell_type": "markdown",
      "id": "b2de1c19-5b83-45dd-a5ab-66b0bc438978",
      "metadata": {},
      "source": [
        "## STEP 2: DATA ACCESS\n",
        "\n",
        "### Soil data\n",
        "\n",
        "The [POLARIS dataset](http://hydrology.cee.duke.edu/POLARIS/) is a\n",
        "convenient way to uniformly access a variety of soil parameters such as\n",
        "pH and percent clay in the US. It is available for a range of depths (in\n",
        "cm) and split into 1x1 degree tiles.\n",
        "\n",
        "<link rel=\"stylesheet\" type=\"text/css\" href=\"./assets/styles.css\"><div class=\"callout callout-style-default callout-titled callout-task\"><div class=\"callout-header\"><div class=\"callout-icon-container\"><i class=\"callout-icon\"></i></div><div class=\"callout-title-container flex-fill\">Try It</div></div><div class=\"callout-body-container callout-body\"><p>Write a <strong>function with a numpy-style docstring</strong> that\n",
        "will download POLARIS data for a particular location, soil parameter,\n",
        "and soil depth. Your function should account for the situation where\n",
        "your site boundary crosses over multiple tiles, and merge the necessary\n",
        "data together.</p>\n",
        "<p>Then, use loops to download and organize the rasters you will need to\n",
        "complete this section. Include soil parameters that will help you to\n",
        "answer your scientific question. We recommend using a soil depth that\n",
        "best corresponds with the rooting depth of your species.</p></div></div>"
      ]
    },
    {
      "cell_type": "code",
      "execution_count": 2,
      "id": "a3800a22",
      "metadata": {
        "highlight": true
      },
      "outputs": [],
      "source": [
        "# Download soil data"
      ]
    },
    {
      "cell_type": "markdown",
      "id": "4aca6fd5-5219-4e04-8ac8-c5a6ecba9d9a",
      "metadata": {},
      "source": [
        "### Topographic data\n",
        "\n",
        "One way to access reliable elevation data is from the [SRTM\n",
        "dataset](https://www.earthdata.nasa.gov/data/instruments/srtm),\n",
        "available through the [earthaccess\n",
        "API](https://earthaccess.readthedocs.io/en/latest/quick-start/).\n",
        "\n",
        "<link rel=\"stylesheet\" type=\"text/css\" href=\"./assets/styles.css\"><div class=\"callout callout-style-default callout-titled callout-task\"><div class=\"callout-header\"><div class=\"callout-icon-container\"><i class=\"callout-icon\"></i></div><div class=\"callout-title-container flex-fill\">Try It</div></div><div class=\"callout-body-container callout-body\"><p>Write a <strong>function with a numpy-style docstring</strong> that\n",
        "will download SRTM elevation data for a particular location and\n",
        "calculate any additional topographic variables you need such as slope or\n",
        "aspect.</p>\n",
        "<p>Then, use loops to download and organize the rasters you will need to\n",
        "complete this section. Include topographic parameters that will help you\n",
        "to answer your scientific question.</p></div></div>\n",
        "\n",
        "> **Warning**\n",
        ">\n",
        "> Be careful when computing the slope from elevation that the units of\n",
        "> elevation match the projection units (e.g. meters and meters, not\n",
        "> meters and degrees). You will need to project the SRTM data to\n",
        "> complete this calculation correctly."
      ]
    },
    {
      "cell_type": "code",
      "execution_count": 3,
      "id": "ff99ab9d",
      "metadata": {
        "highlight": true
      },
      "outputs": [],
      "source": [
        "# Download soil data"
      ]
    },
    {
      "cell_type": "markdown",
      "id": "f006b1d0-e899-4477-b60b-7489a5fa6560",
      "metadata": {},
      "source": [
        "### Climate model data\n",
        "\n",
        "You can use MACAv2 data for historical and future climate data. Be sure\n",
        "to compare at least two 30-year time periods (e.g. historical vs. 10\n",
        "years in the future) for at least four of the CMIP models. Overall, you\n",
        "should be downloading at least 8 climate rasters for each of your sites,\n",
        "for a total of 16. **You will *need* to use loops and/or functions to do\n",
        "this cleanly!**.\n",
        "\n",
        "<link rel=\"stylesheet\" type=\"text/css\" href=\"./assets/styles.css\"><div class=\"callout callout-style-default callout-titled callout-task\"><div class=\"callout-header\"><div class=\"callout-icon-container\"><i class=\"callout-icon\"></i></div><div class=\"callout-title-container flex-fill\">Try It</div></div><div class=\"callout-body-container callout-body\"><p>Write a <strong>function with a numpy-style docstring</strong> that\n",
        "will download MACAv2 data for a particular climate model, emissions\n",
        "scenario, spatial domain, and time frame. Then, use loops to download\n",
        "and organize the 16+ rasters you will need to complete this section. The\n",
        "<a\n",
        "href=\"http://thredds.northwestknowledge.net:8080/thredds/reacch_climate_CMIP5_macav2_catalog2.html\">MACAv2\n",
        "dataset is accessible from their Thredds server</a>. Include an\n",
        "arrangement of sites, models, emissions scenarios, and time periods that\n",
        "will help you to answer your scientific question.</p></div></div>"
      ]
    },
    {
      "cell_type": "code",
      "execution_count": 4,
      "id": "98f0ac7b",
      "metadata": {
        "highlight": true
      },
      "outputs": [],
      "source": [
        "# Download climate data"
      ]
    },
    {
      "cell_type": "markdown",
      "id": "4ee33c63-764e-4065-93c4-ac7e8d383224",
      "metadata": {},
      "source": [
        "<link rel=\"stylesheet\" type=\"text/css\" href=\"./assets/styles.css\"><div class=\"callout callout-style-default callout-titled callout-respond\"><div class=\"callout-header\"><div class=\"callout-icon-container\"><i class=\"callout-icon\"></i></div><div class=\"callout-title-container flex-fill\">Reflect and Respond</div></div><div class=\"callout-body-container callout-body\"><p>Make sure to include a description of the climate data and how you\n",
        "selected your models. Include a citation of the MACAv2 data</p></div></div>\n",
        "\n",
        "YOUR CLIMATE DATA DESCRIPTION AND CITATIONS HERE"
      ]
    }
  ],
  "metadata": {
    "kernelspec": {
      "display_name": "earth-analytics-python",
      "language": "python",
      "name": "python3"
    },
    "language_info": {
      "codemirror_mode": {
        "name": "ipython",
        "version": 3
      },
      "file_extension": ".py",
      "mimetype": "text/x-python",
      "name": "python",
      "nbconvert_exporter": "python",
      "pygments_lexer": "ipython3",
      "version": "3.11.10"
    }
  },
  "nbformat": 4,
  "nbformat_minor": 5
}
