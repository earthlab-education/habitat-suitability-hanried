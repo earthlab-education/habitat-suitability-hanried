{
  "cells": [
    {
      "cell_type": "markdown",
      "id": "4d57d093-4872-4994-ba5c-0dc6ff0dec7b",
      "metadata": {},
      "source": [
        "# Habitat suitability under climate change\n",
        "\n",
        "[Our changing climate is changing where key grassland species can live,\n",
        "and grassland management and restoration practices will need to take\n",
        "this into\n",
        "account.](https://www.frontiersin.org/articles/10.3389/fpls.2017.00730/full)\n",
        "\n",
        "In this coding challenge, you will create a habitat suitability model\n",
        "for a species of your choice that lives in the continental United States\n",
        "(CONUS). We have this limitation because the downscaled climate data we\n",
        "suggest, the [MACAv2 dataset](https://www.climatologylab.org/maca.html),\n",
        "is only available in the CONUS – if you find other downscaled climate\n",
        "data at an appropriate resolution you are welcome to choose a different\n",
        "study area. If you don’t have anything in mind, you can take a look at\n",
        "Sorghastrum nutans, a grass native to North America. [In the past 50\n",
        "years, its range has moved\n",
        "northward](https://www.gbif.org/species/2704414).\n",
        "\n",
        "Your suitability assessment will be based on combining multiple data\n",
        "layers related to soil, topography, and climate. You will also need to\n",
        "create a **modular, reproducible, workflow** using functions and loops.\n",
        "To do this effectively, we recommend planning your code out in advance\n",
        "using a technique such as pseudocode outline or a flow diagram. We\n",
        "recommend planning each of the blocks below out into multiple steps. It\n",
        "is unnecessary to write a step for every line of code unles you find\n",
        "that useful. As a rule of thumb, aim for steps that cover the major\n",
        "structures of your code in 2-5 line chunks.\n",
        "\n",
        "## STEP 1: STUDY OVERVIEW\n",
        "\n",
        "Before you begin coding, you will need to design your study.\n",
        "\n",
        "<link rel=\"stylesheet\" type=\"text/css\" href=\"./assets/styles.css\"><div class=\"callout callout-style-default callout-titled callout-respond\"><div class=\"callout-header\"><div class=\"callout-icon-container\"><i class=\"callout-icon\"></i></div><div class=\"callout-title-container flex-fill\">Reflect and Respond</div></div><div class=\"callout-body-container callout-body\"><p>What question do you hope to answer about potential future changes in\n",
        "habitat suitability?</p></div></div>"
      ]
    },
    {
      "cell_type": "markdown",
      "id": "3972630a-b9a0-4447-8e87-e3308195364d",
      "metadata": {},
      "source": [
        "YOUR QUESTION HERE"
      ]
    },
    {
      "cell_type": "markdown",
      "id": "0460af76-926f-43a1-b671-47f75613a5c1",
      "metadata": {},
      "source": [
        "### Species\n",
        "\n",
        "<link rel=\"stylesheet\" type=\"text/css\" href=\"./assets/styles.css\"><div class=\"callout callout-style-default callout-titled callout-task\"><div class=\"callout-header\"><div class=\"callout-icon-container\"><i class=\"callout-icon\"></i></div><div class=\"callout-title-container flex-fill\">Try It</div></div><div class=\"callout-body-container callout-body\"><p>Select the species you want to study, and research it’s habitat\n",
        "parameters in scientific studies or other reliable sources. You will\n",
        "want to look for reviews or overviews of the data, since an individual\n",
        "study may not have the breadth needed for this purpose. In the US, the\n",
        "National Resource Conservation Service can have helpful fact sheets\n",
        "about different species. University Extension programs are also good\n",
        "resources for summaries.</p>\n",
        "<p>Based on your research, select soil, topographic, and climate\n",
        "variables that you can use to determine if a particular location and\n",
        "time period is a suitable habitat for your species.</p></div></div>\n",
        "\n",
        "<link rel=\"stylesheet\" type=\"text/css\" href=\"./assets/styles.css\"><div class=\"callout callout-style-default callout-titled callout-respond\"><div class=\"callout-header\"><div class=\"callout-icon-container\"><i class=\"callout-icon\"></i></div><div class=\"callout-title-container flex-fill\">Reflect and Respond</div></div><div class=\"callout-body-container callout-body\"><p>Write a description of your species. What habitat is it found in?\n",
        "What is its geographic range? What, if any, are conservation threats to\n",
        "the species? What data will shed the most light on habitat suitability\n",
        "for this species?</p></div></div>"
      ]
    },
    {
      "cell_type": "markdown",
      "id": "5c0a1bb7-b500-4ffa-9530-d6ac4e7f3989",
      "metadata": {},
      "source": [
        "<span style=\"color: purple;\">\n",
        "\n",
        "Species: *Populus tremuloides*\n",
        "\n",
        "Common Name: Quaking Aspen\n",
        "\n",
        "The quaking aspen has some versatility in terms of it's possible habitats. It can live in \n",
        "\n",
        "</span>"
      ]
    },
    {
      "cell_type": "markdown",
      "id": "7b733766-e23f-43a2-a7fb-09ce0ddcf059",
      "metadata": {},
      "source": [
        "### Sites\n",
        "\n",
        "<link rel=\"stylesheet\" type=\"text/css\" href=\"./assets/styles.css\"><div class=\"callout callout-style-default callout-titled callout-task\"><div class=\"callout-header\"><div class=\"callout-icon-container\"><i class=\"callout-icon\"></i></div><div class=\"callout-title-container flex-fill\">Try It</div></div><div class=\"callout-body-container callout-body\"><p>Select at least two site to study, such as two of the U.S. National\n",
        "Grasslands. You can download the <a\n",
        "href=\"https://data.fs.usda.gov/geodata/edw/edw_resources/shp/S_USA.NationalGrassland.zip\">USFS\n",
        "National Grassland Units</a> and select your study sites. Generate a\n",
        "site map for each location.</p>\n",
        "<p>When selecting your sites, you might want to look for places that are\n",
        "marginally habitable for this species, since those locations will be\n",
        "most likely to show changes due to climate.</p></div></div>\n",
        "\n",
        "<link rel=\"stylesheet\" type=\"text/css\" href=\"./assets/styles.css\"><div class=\"callout callout-style-default callout-titled callout-respond\"><div class=\"callout-header\"><div class=\"callout-icon-container\"><i class=\"callout-icon\"></i></div><div class=\"callout-title-container flex-fill\">Reflect and Respond</div></div><div class=\"callout-body-container callout-body\"><p>Write a site description for each of your sites, or for all of your\n",
        "sites as a group if you have chosen a large number of linked sites. What\n",
        "differences or trends do you expect to see among your sites?</p></div></div>"
      ]
    },
    {
      "cell_type": "markdown",
      "id": "d4d9ef03-229d-4690-bf1f-2fe93ec4b5f9",
      "metadata": {},
      "source": [
        "YOUR SITE DESCRIPTION HERE"
      ]
    },
    {
      "cell_type": "markdown",
      "id": "e05e6be6-03af-4dea-9fd9-17d2e15417f8",
      "metadata": {},
      "source": [
        "### Time periods\n",
        "\n",
        "In general when studying climate, we are interested in **climate\n",
        "normals**, which are typically calculated from 30 years of data so that\n",
        "they reflect the climate as a whole and not a single year which may be\n",
        "anomalous. So if you are interested in the climate around 2050, download\n",
        "at least data from 2035-2065.\n",
        "\n",
        "<link rel=\"stylesheet\" type=\"text/css\" href=\"./assets/styles.css\"><div class=\"callout callout-style-default callout-titled callout-respond\"><div class=\"callout-header\"><div class=\"callout-icon-container\"><i class=\"callout-icon\"></i></div><div class=\"callout-title-container flex-fill\">Reflect and Respond</div></div><div class=\"callout-body-container callout-body\"><p>Select at least two 30-year time periods to compare, such as\n",
        "historical and 30 years into the future. These time periods should help\n",
        "you to answer your scientific question.</p></div></div>"
      ]
    },
    {
      "cell_type": "markdown",
      "id": "99cfdf6c-5bbc-46ae-a0d1-98888799e552",
      "metadata": {},
      "source": [
        "YOUR TIME PERIODS HERE"
      ]
    },
    {
      "cell_type": "markdown",
      "id": "cf584628-045f-442b-ab2c-73722c363668",
      "metadata": {},
      "source": [
        "### Climate models\n",
        "\n",
        "There is a great deal of uncertainty among the many global climate\n",
        "models available. One way to work with the variety is by using an\n",
        "**ensemble** of models to try to capture that uncertainty. This also\n",
        "gives you an idea of the range of possible values you might expect! To\n",
        "be most efficient with your time and computing resources, you can use a\n",
        "subset of all the climate models available to you. However, for each\n",
        "scenario, you should attempt to include models that are:\n",
        "\n",
        "-   Warm and wet\n",
        "-   Warm and dry\n",
        "-   Cold and wet\n",
        "-   Cold and dry\n",
        "\n",
        "for each of your sites.\n",
        "\n",
        "To figure out which climate models to use, you will need to access\n",
        "summary data near your sites for each of the climate models. You can do\n",
        "this using the [Climate Futures Toolbox Future Climate Scatter\n",
        "tool](https://climatetoolbox.org/tool/Future-Climate-Scatter). There is\n",
        "no need to write code to select your climate models, since this choice\n",
        "is something that requires your judgement and only needs to be done\n",
        "once.\n",
        "\n",
        "If your question requires it, you can also choose to include multiple\n",
        "climate variables, such as temperature and precipitation, and/or\n",
        "multiple emissions scenarios, such as RCP4.5 and RCP8.5.\n",
        "\n",
        "<link rel=\"stylesheet\" type=\"text/css\" href=\"./assets/styles.css\"><div class=\"callout callout-style-default callout-titled callout-task\"><div class=\"callout-header\"><div class=\"callout-icon-container\"><i class=\"callout-icon\"></i></div><div class=\"callout-title-container flex-fill\">Try It</div></div><div class=\"callout-body-container callout-body\"><p>Choose at least 4 climate models that cover the range of possible\n",
        "future climate variability at your sites. How did you choose?</p></div></div>"
      ]
    },
    {
      "cell_type": "markdown",
      "id": "9c200f9f-d61e-4c14-a784-ab734bf6ec95",
      "metadata": {},
      "source": [
        "LIST THE CLIMATE MODELS YOU SELECTED HERE AND CITE THE CLIMATE TOOLBOX"
      ]
    }
  ],
  "metadata": {
    "kernelspec": {
      "display_name": "earth-analytics-python",
      "language": "python",
      "name": "python3"
    },
    "language_info": {
      "codemirror_mode": {
        "name": "ipython",
        "version": 3
      },
      "file_extension": ".py",
      "mimetype": "text/x-python",
      "name": "python",
      "nbconvert_exporter": "python",
      "pygments_lexer": "ipython3",
      "version": "3.11.10"
    }
  },
  "nbformat": 4,
  "nbformat_minor": 5
}
