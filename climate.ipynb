{
  "cells": [
    {
      "cell_type": "markdown",
      "id": "4d57d093-4872-4994-ba5c-0dc6ff0dec7b",
      "metadata": {},
      "source": [
        "# Habitat suitability under climate change\n",
        "\n",
        "[Our changing climate is changing where key grassland species can live,\n",
        "and grassland management and restoration practices will need to take\n",
        "this into\n",
        "account.](https://www.frontiersin.org/articles/10.3389/fpls.2017.00730/full)\n",
        "\n",
        "In this coding challenge, you will create a habitat suitability model\n",
        "for a species of your choice that lives in the continental United States\n",
        "(CONUS). We have this limitation because the downscaled climate data we\n",
        "suggest, the [MACAv2 dataset](https://www.climatologylab.org/maca.html),\n",
        "is only available in the CONUS – if you find other downscaled climate\n",
        "data at an appropriate resolution you are welcome to choose a different\n",
        "study area. If you don’t have anything in mind, you can take a look at\n",
        "Sorghastrum nutans, a grass native to North America. [In the past 50\n",
        "years, its range has moved\n",
        "northward](https://www.gbif.org/species/2704414).\n",
        "\n",
        "Your suitability assessment will be based on combining multiple data\n",
        "layers related to soil, topography, and climate. You will also need to\n",
        "create a **modular, reproducible, workflow** using functions and loops.\n",
        "To do this effectively, we recommend planning your code out in advance\n",
        "using a technique such as pseudocode outline or a flow diagram. We\n",
        "recommend planning each of the blocks below out into multiple steps. It\n",
        "is unnecessary to write a step for every line of code unles you find\n",
        "that useful. As a rule of thumb, aim for steps that cover the major\n",
        "structures of your code in 2-5 line chunks.\n",
        "\n",
        "## STEP 1: STUDY OVERVIEW\n",
        "\n",
        "Before you begin coding, you will need to design your study.\n",
        "\n",
        "<link rel=\"stylesheet\" type=\"text/css\" href=\"./assets/styles.css\"><div class=\"callout callout-style-default callout-titled callout-respond\"><div class=\"callout-header\"><div class=\"callout-icon-container\"><i class=\"callout-icon\"></i></div><div class=\"callout-title-container flex-fill\">Reflect and Respond</div></div><div class=\"callout-body-container callout-body\"><p>What question do you hope to answer about potential future changes in\n",
        "habitat suitability?</p></div></div>"
      ]
    },
    {
      "cell_type": "markdown",
      "id": "3972630a-b9a0-4447-8e87-e3308195364d",
      "metadata": {},
      "source": [
        "YOUR QUESTION HERE"
      ]
    },
    {
      "cell_type": "code",
      "execution_count": 1,
      "id": "97900815",
      "metadata": {},
      "outputs": [
        {
          "name": "stdout",
          "output_type": "stream",
          "text": [
            "Requirement already satisfied: pygbif in c:\\users\\riede\\miniconda3\\envs\\earth-analytics-python\\lib\\site-packages (0.6.5)\n",
            "Requirement already satisfied: requests>2.7 in c:\\users\\riede\\miniconda3\\envs\\earth-analytics-python\\lib\\site-packages (from pygbif) (2.32.3)\n",
            "Requirement already satisfied: requests-cache in c:\\users\\riede\\miniconda3\\envs\\earth-analytics-python\\lib\\site-packages (from pygbif) (1.2.1)\n",
            "Requirement already satisfied: geojson_rewind in c:\\users\\riede\\miniconda3\\envs\\earth-analytics-python\\lib\\site-packages (from pygbif) (1.1.0)\n",
            "Requirement already satisfied: geomet in c:\\users\\riede\\miniconda3\\envs\\earth-analytics-python\\lib\\site-packages (from pygbif) (1.1.0)\n",
            "Requirement already satisfied: appdirs>=1.4.3 in c:\\users\\riede\\miniconda3\\envs\\earth-analytics-python\\lib\\site-packages (from pygbif) (1.4.4)\n",
            "Requirement already satisfied: matplotlib in c:\\users\\riede\\miniconda3\\envs\\earth-analytics-python\\lib\\site-packages (from pygbif) (3.9.2)\n",
            "Requirement already satisfied: charset-normalizer<4,>=2 in c:\\users\\riede\\miniconda3\\envs\\earth-analytics-python\\lib\\site-packages (from requests>2.7->pygbif) (3.4.0)\n",
            "Requirement already satisfied: idna<4,>=2.5 in c:\\users\\riede\\miniconda3\\envs\\earth-analytics-python\\lib\\site-packages (from requests>2.7->pygbif) (3.10)\n",
            "Requirement already satisfied: urllib3<3,>=1.21.1 in c:\\users\\riede\\miniconda3\\envs\\earth-analytics-python\\lib\\site-packages (from requests>2.7->pygbif) (2.2.3)\n",
            "Requirement already satisfied: certifi>=2017.4.17 in c:\\users\\riede\\miniconda3\\envs\\earth-analytics-python\\lib\\site-packages (from requests>2.7->pygbif) (2024.8.30)\n",
            "Requirement already satisfied: click in c:\\users\\riede\\miniconda3\\envs\\earth-analytics-python\\lib\\site-packages (from geomet->pygbif) (8.1.7)\n",
            "Requirement already satisfied: contourpy>=1.0.1 in c:\\users\\riede\\miniconda3\\envs\\earth-analytics-python\\lib\\site-packages (from matplotlib->pygbif) (1.3.0)\n",
            "Requirement already satisfied: cycler>=0.10 in c:\\users\\riede\\miniconda3\\envs\\earth-analytics-python\\lib\\site-packages (from matplotlib->pygbif) (0.12.1)\n",
            "Requirement already satisfied: fonttools>=4.22.0 in c:\\users\\riede\\miniconda3\\envs\\earth-analytics-python\\lib\\site-packages (from matplotlib->pygbif) (4.54.1)\n",
            "Requirement already satisfied: kiwisolver>=1.3.1 in c:\\users\\riede\\miniconda3\\envs\\earth-analytics-python\\lib\\site-packages (from matplotlib->pygbif) (1.4.7)\n",
            "Requirement already satisfied: numpy>=1.23 in c:\\users\\riede\\miniconda3\\envs\\earth-analytics-python\\lib\\site-packages (from matplotlib->pygbif) (2.0.2)\n",
            "Requirement already satisfied: packaging>=20.0 in c:\\users\\riede\\miniconda3\\envs\\earth-analytics-python\\lib\\site-packages (from matplotlib->pygbif) (24.1)\n",
            "Requirement already satisfied: pillow>=8 in c:\\users\\riede\\miniconda3\\envs\\earth-analytics-python\\lib\\site-packages (from matplotlib->pygbif) (11.0.0)\n",
            "Requirement already satisfied: pyparsing>=2.3.1 in c:\\users\\riede\\miniconda3\\envs\\earth-analytics-python\\lib\\site-packages (from matplotlib->pygbif) (3.2.0)\n",
            "Requirement already satisfied: python-dateutil>=2.7 in c:\\users\\riede\\miniconda3\\envs\\earth-analytics-python\\lib\\site-packages (from matplotlib->pygbif) (2.9.0)\n",
            "Requirement already satisfied: attrs>=21.2 in c:\\users\\riede\\miniconda3\\envs\\earth-analytics-python\\lib\\site-packages (from requests-cache->pygbif) (24.2.0)\n",
            "Requirement already satisfied: cattrs>=22.2 in c:\\users\\riede\\miniconda3\\envs\\earth-analytics-python\\lib\\site-packages (from requests-cache->pygbif) (24.1.2)\n",
            "Requirement already satisfied: platformdirs>=2.5 in c:\\users\\riede\\miniconda3\\envs\\earth-analytics-python\\lib\\site-packages (from requests-cache->pygbif) (4.3.6)\n",
            "Requirement already satisfied: url-normalize>=1.4 in c:\\users\\riede\\miniconda3\\envs\\earth-analytics-python\\lib\\site-packages (from requests-cache->pygbif) (1.4.3)\n",
            "Requirement already satisfied: six>=1.5 in c:\\users\\riede\\miniconda3\\envs\\earth-analytics-python\\lib\\site-packages (from python-dateutil>=2.7->matplotlib->pygbif) (1.16.0)\n",
            "Requirement already satisfied: colorama in c:\\users\\riede\\miniconda3\\envs\\earth-analytics-python\\lib\\site-packages (from click->geomet->pygbif) (0.4.6)\n",
            "Note: you may need to restart the kernel to use updated packages.\n"
          ]
        }
      ],
      "source": [
        "pip install pygbif"
      ]
    },
    {
      "cell_type": "code",
      "execution_count": 2,
      "id": "a0967fb3",
      "metadata": {},
      "outputs": [
        {
          "name": "stderr",
          "output_type": "stream",
          "text": [
            "c:\\Users\\riede\\miniconda3\\envs\\earth-analytics-python\\Lib\\site-packages\\dask\\dataframe\\__init__.py:42: FutureWarning: \n",
            "Dask dataframe query planning is disabled because dask-expr is not installed.\n",
            "\n",
            "You can install it with `pip install dask[dataframe]` or `conda install dask`.\n",
            "This will raise in a future version.\n",
            "\n",
            "  warnings.warn(msg, FutureWarning)\n"
          ]
        },
        {
          "data": {
            "text/html": [
              "<script type=\"esms-options\">{\"shimMode\": true}</script><style>*[data-root-id],\n",
              "*[data-root-id] > * {\n",
              "  box-sizing: border-box;\n",
              "  font-family: var(--jp-ui-font-family);\n",
              "  font-size: var(--jp-ui-font-size1);\n",
              "  color: var(--vscode-editor-foreground, var(--jp-ui-font-color1));\n",
              "}\n",
              "\n",
              "/* Override VSCode background color */\n",
              ".cell-output-ipywidget-background:has(\n",
              "    > .cell-output-ipywidget-background > .lm-Widget > *[data-root-id]\n",
              "  ),\n",
              ".cell-output-ipywidget-background:has(> .lm-Widget > *[data-root-id]) {\n",
              "  background-color: transparent !important;\n",
              "}\n",
              "</style>"
            ]
          },
          "metadata": {},
          "output_type": "display_data"
        },
        {
          "data": {
            "application/javascript": "(function(root) {\n  function now() {\n    return new Date();\n  }\n\n  const force = true;\n  const py_version = '3.5.2'.replace('rc', '-rc.').replace('.dev', '-dev.');\n  const reloading = false;\n  const Bokeh = root.Bokeh;\n\n  // Set a timeout for this load but only if we are not already initializing\n  if (typeof (root._bokeh_timeout) === \"undefined\" || (force || !root._bokeh_is_initializing)) {\n    root._bokeh_timeout = Date.now() + 5000;\n    root._bokeh_failed_load = false;\n  }\n\n  function run_callbacks() {\n    try {\n      root._bokeh_onload_callbacks.forEach(function(callback) {\n        if (callback != null)\n          callback();\n      });\n    } finally {\n      delete root._bokeh_onload_callbacks;\n    }\n    console.debug(\"Bokeh: all callbacks have finished\");\n  }\n\n  function load_libs(css_urls, js_urls, js_modules, js_exports, callback) {\n    if (css_urls == null) css_urls = [];\n    if (js_urls == null) js_urls = [];\n    if (js_modules == null) js_modules = [];\n    if (js_exports == null) js_exports = {};\n\n    root._bokeh_onload_callbacks.push(callback);\n\n    if (root._bokeh_is_loading > 0) {\n      // Don't load bokeh if it is still initializing\n      console.debug(\"Bokeh: BokehJS is being loaded, scheduling callback at\", now());\n      return null;\n    } else if (js_urls.length === 0 && js_modules.length === 0 && Object.keys(js_exports).length === 0) {\n      // There is nothing to load\n      run_callbacks();\n      return null;\n    }\n\n    function on_load() {\n      root._bokeh_is_loading--;\n      if (root._bokeh_is_loading === 0) {\n        console.debug(\"Bokeh: all BokehJS libraries/stylesheets loaded\");\n        run_callbacks()\n      }\n    }\n    window._bokeh_on_load = on_load\n\n    function on_error(e) {\n      const src_el = e.srcElement\n      console.error(\"failed to load \" + (src_el.href || src_el.src));\n    }\n\n    const skip = [];\n    if (window.requirejs) {\n      window.requirejs.config({'packages': {}, 'paths': {}, 'shim': {}});\n      root._bokeh_is_loading = css_urls.length + 0;\n    } else {\n      root._bokeh_is_loading = css_urls.length + js_urls.length + js_modules.length + Object.keys(js_exports).length;\n    }\n\n    const existing_stylesheets = []\n    const links = document.getElementsByTagName('link')\n    for (let i = 0; i < links.length; i++) {\n      const link = links[i]\n      if (link.href != null) {\n        existing_stylesheets.push(link.href)\n      }\n    }\n    for (let i = 0; i < css_urls.length; i++) {\n      const url = css_urls[i];\n      const escaped = encodeURI(url)\n      if (existing_stylesheets.indexOf(escaped) !== -1) {\n        on_load()\n        continue;\n      }\n      const element = document.createElement(\"link\");\n      element.onload = on_load;\n      element.onerror = on_error;\n      element.rel = \"stylesheet\";\n      element.type = \"text/css\";\n      element.href = url;\n      console.debug(\"Bokeh: injecting link tag for BokehJS stylesheet: \", url);\n      document.body.appendChild(element);\n    }    var existing_scripts = []\n    const scripts = document.getElementsByTagName('script')\n    for (let i = 0; i < scripts.length; i++) {\n      var script = scripts[i]\n      if (script.src != null) {\n        existing_scripts.push(script.src)\n      }\n    }\n    for (let i = 0; i < js_urls.length; i++) {\n      const url = js_urls[i];\n      const escaped = encodeURI(url)\n      if (skip.indexOf(escaped) !== -1 || existing_scripts.indexOf(escaped) !== -1) {\n        if (!window.requirejs) {\n          on_load();\n        }\n        continue;\n      }\n      const element = document.createElement('script');\n      element.onload = on_load;\n      element.onerror = on_error;\n      element.async = false;\n      element.src = url;\n      console.debug(\"Bokeh: injecting script tag for BokehJS library: \", url);\n      document.head.appendChild(element);\n    }\n    for (let i = 0; i < js_modules.length; i++) {\n      const url = js_modules[i];\n      const escaped = encodeURI(url)\n      if (skip.indexOf(escaped) !== -1 || existing_scripts.indexOf(escaped) !== -1) {\n        if (!window.requirejs) {\n          on_load();\n        }\n        continue;\n      }\n      var element = document.createElement('script');\n      element.onload = on_load;\n      element.onerror = on_error;\n      element.async = false;\n      element.src = url;\n      element.type = \"module\";\n      console.debug(\"Bokeh: injecting script tag for BokehJS library: \", url);\n      document.head.appendChild(element);\n    }\n    for (const name in js_exports) {\n      const url = js_exports[name];\n      const escaped = encodeURI(url)\n      if (skip.indexOf(escaped) >= 0 || root[name] != null) {\n        if (!window.requirejs) {\n          on_load();\n        }\n        continue;\n      }\n      var element = document.createElement('script');\n      element.onerror = on_error;\n      element.async = false;\n      element.type = \"module\";\n      console.debug(\"Bokeh: injecting script tag for BokehJS library: \", url);\n      element.textContent = `\n      import ${name} from \"${url}\"\n      window.${name} = ${name}\n      window._bokeh_on_load()\n      `\n      document.head.appendChild(element);\n    }\n    if (!js_urls.length && !js_modules.length) {\n      on_load()\n    }\n  };\n\n  function inject_raw_css(css) {\n    const element = document.createElement(\"style\");\n    element.appendChild(document.createTextNode(css));\n    document.body.appendChild(element);\n  }\n\n  const js_urls = [\"https://cdn.holoviz.org/panel/1.5.2/dist/bundled/reactiveesm/es-module-shims@^1.10.0/dist/es-module-shims.min.js\", \"https://cdn.bokeh.org/bokeh/release/bokeh-3.5.2.min.js\", \"https://cdn.bokeh.org/bokeh/release/bokeh-gl-3.5.2.min.js\", \"https://cdn.bokeh.org/bokeh/release/bokeh-widgets-3.5.2.min.js\", \"https://cdn.bokeh.org/bokeh/release/bokeh-tables-3.5.2.min.js\", \"https://cdn.holoviz.org/panel/1.5.2/dist/panel.min.js\"];\n  const js_modules = [];\n  const js_exports = {};\n  const css_urls = [];\n  const inline_js = [    function(Bokeh) {\n      Bokeh.set_log_level(\"info\");\n    },\nfunction(Bokeh) {} // ensure no trailing comma for IE\n  ];\n\n  function run_inline_js() {\n    if ((root.Bokeh !== undefined) || (force === true)) {\n      for (let i = 0; i < inline_js.length; i++) {\n        try {\n          inline_js[i].call(root, root.Bokeh);\n        } catch(e) {\n          if (!reloading) {\n            throw e;\n          }\n        }\n      }\n      // Cache old bokeh versions\n      if (Bokeh != undefined && !reloading) {\n        var NewBokeh = root.Bokeh;\n        if (Bokeh.versions === undefined) {\n          Bokeh.versions = new Map();\n        }\n        if (NewBokeh.version !== Bokeh.version) {\n          Bokeh.versions.set(NewBokeh.version, NewBokeh)\n        }\n        root.Bokeh = Bokeh;\n      }\n    } else if (Date.now() < root._bokeh_timeout) {\n      setTimeout(run_inline_js, 100);\n    } else if (!root._bokeh_failed_load) {\n      console.log(\"Bokeh: BokehJS failed to load within specified timeout.\");\n      root._bokeh_failed_load = true;\n    }\n    root._bokeh_is_initializing = false\n  }\n\n  function load_or_wait() {\n    // Implement a backoff loop that tries to ensure we do not load multiple\n    // versions of Bokeh and its dependencies at the same time.\n    // In recent versions we use the root._bokeh_is_initializing flag\n    // to determine whether there is an ongoing attempt to initialize\n    // bokeh, however for backward compatibility we also try to ensure\n    // that we do not start loading a newer (Panel>=1.0 and Bokeh>3) version\n    // before older versions are fully initialized.\n    if (root._bokeh_is_initializing && Date.now() > root._bokeh_timeout) {\n      // If the timeout and bokeh was not successfully loaded we reset\n      // everything and try loading again\n      root._bokeh_timeout = Date.now() + 5000;\n      root._bokeh_is_initializing = false;\n      root._bokeh_onload_callbacks = undefined;\n      root._bokeh_is_loading = 0\n      console.log(\"Bokeh: BokehJS was loaded multiple times but one version failed to initialize.\");\n      load_or_wait();\n    } else if (root._bokeh_is_initializing || (typeof root._bokeh_is_initializing === \"undefined\" && root._bokeh_onload_callbacks !== undefined)) {\n      setTimeout(load_or_wait, 100);\n    } else {\n      root._bokeh_is_initializing = true\n      root._bokeh_onload_callbacks = []\n      const bokeh_loaded = root.Bokeh != null && (root.Bokeh.version === py_version || (root.Bokeh.versions !== undefined && root.Bokeh.versions.has(py_version)));\n      if (!reloading && !bokeh_loaded) {\n        if (root.Bokeh) {\n          root.Bokeh = undefined;\n        }\n        console.debug(\"Bokeh: BokehJS not loaded, scheduling load and callback at\", now());\n      }\n      load_libs(css_urls, js_urls, js_modules, js_exports, function() {\n        console.debug(\"Bokeh: BokehJS plotting callback run at\", now());\n        run_inline_js();\n      });\n    }\n  }\n  // Give older versions of the autoload script a head-start to ensure\n  // they initialize before we start loading newer version.\n  setTimeout(load_or_wait, 100)\n}(window));",
            "application/vnd.holoviews_load.v0+json": ""
          },
          "metadata": {},
          "output_type": "display_data"
        },
        {
          "data": {
            "application/javascript": "\nif ((window.PyViz === undefined) || (window.PyViz instanceof HTMLElement)) {\n  window.PyViz = {comms: {}, comm_status:{}, kernels:{}, receivers: {}, plot_index: []}\n}\n\n\n    function JupyterCommManager() {\n    }\n\n    JupyterCommManager.prototype.register_target = function(plot_id, comm_id, msg_handler) {\n      if (window.comm_manager || ((window.Jupyter !== undefined) && (Jupyter.notebook.kernel != null))) {\n        var comm_manager = window.comm_manager || Jupyter.notebook.kernel.comm_manager;\n        comm_manager.register_target(comm_id, function(comm) {\n          comm.on_msg(msg_handler);\n        });\n      } else if ((plot_id in window.PyViz.kernels) && (window.PyViz.kernels[plot_id])) {\n        window.PyViz.kernels[plot_id].registerCommTarget(comm_id, function(comm) {\n          comm.onMsg = msg_handler;\n        });\n      } else if (typeof google != 'undefined' && google.colab.kernel != null) {\n        google.colab.kernel.comms.registerTarget(comm_id, (comm) => {\n          var messages = comm.messages[Symbol.asyncIterator]();\n          function processIteratorResult(result) {\n            var message = result.value;\n            console.log(message)\n            var content = {data: message.data, comm_id};\n            var buffers = []\n            for (var buffer of message.buffers || []) {\n              buffers.push(new DataView(buffer))\n            }\n            var metadata = message.metadata || {};\n            var msg = {content, buffers, metadata}\n            msg_handler(msg);\n            return messages.next().then(processIteratorResult);\n          }\n          return messages.next().then(processIteratorResult);\n        })\n      }\n    }\n\n    JupyterCommManager.prototype.get_client_comm = function(plot_id, comm_id, msg_handler) {\n      if (comm_id in window.PyViz.comms) {\n        return window.PyViz.comms[comm_id];\n      } else if (window.comm_manager || ((window.Jupyter !== undefined) && (Jupyter.notebook.kernel != null))) {\n        var comm_manager = window.comm_manager || Jupyter.notebook.kernel.comm_manager;\n        var comm = comm_manager.new_comm(comm_id, {}, {}, {}, comm_id);\n        if (msg_handler) {\n          comm.on_msg(msg_handler);\n        }\n      } else if ((plot_id in window.PyViz.kernels) && (window.PyViz.kernels[plot_id])) {\n        var comm = window.PyViz.kernels[plot_id].connectToComm(comm_id);\n        comm.open();\n        if (msg_handler) {\n          comm.onMsg = msg_handler;\n        }\n      } else if (typeof google != 'undefined' && google.colab.kernel != null) {\n        var comm_promise = google.colab.kernel.comms.open(comm_id)\n        comm_promise.then((comm) => {\n          window.PyViz.comms[comm_id] = comm;\n          if (msg_handler) {\n            var messages = comm.messages[Symbol.asyncIterator]();\n            function processIteratorResult(result) {\n              var message = result.value;\n              var content = {data: message.data};\n              var metadata = message.metadata || {comm_id};\n              var msg = {content, metadata}\n              msg_handler(msg);\n              return messages.next().then(processIteratorResult);\n            }\n            return messages.next().then(processIteratorResult);\n          }\n        }) \n        var sendClosure = (data, metadata, buffers, disposeOnDone) => {\n          return comm_promise.then((comm) => {\n            comm.send(data, metadata, buffers, disposeOnDone);\n          });\n        };\n        var comm = {\n          send: sendClosure\n        };\n      }\n      window.PyViz.comms[comm_id] = comm;\n      return comm;\n    }\n    window.PyViz.comm_manager = new JupyterCommManager();\n    \n\n\nvar JS_MIME_TYPE = 'application/javascript';\nvar HTML_MIME_TYPE = 'text/html';\nvar EXEC_MIME_TYPE = 'application/vnd.holoviews_exec.v0+json';\nvar CLASS_NAME = 'output';\n\n/**\n * Render data to the DOM node\n */\nfunction render(props, node) {\n  var div = document.createElement(\"div\");\n  var script = document.createElement(\"script\");\n  node.appendChild(div);\n  node.appendChild(script);\n}\n\n/**\n * Handle when a new output is added\n */\nfunction handle_add_output(event, handle) {\n  var output_area = handle.output_area;\n  var output = handle.output;\n  if ((output.data == undefined) || (!output.data.hasOwnProperty(EXEC_MIME_TYPE))) {\n    return\n  }\n  var id = output.metadata[EXEC_MIME_TYPE][\"id\"];\n  var toinsert = output_area.element.find(\".\" + CLASS_NAME.split(' ')[0]);\n  if (id !== undefined) {\n    var nchildren = toinsert.length;\n    var html_node = toinsert[nchildren-1].children[0];\n    html_node.innerHTML = output.data[HTML_MIME_TYPE];\n    var scripts = [];\n    var nodelist = html_node.querySelectorAll(\"script\");\n    for (var i in nodelist) {\n      if (nodelist.hasOwnProperty(i)) {\n        scripts.push(nodelist[i])\n      }\n    }\n\n    scripts.forEach( function (oldScript) {\n      var newScript = document.createElement(\"script\");\n      var attrs = [];\n      var nodemap = oldScript.attributes;\n      for (var j in nodemap) {\n        if (nodemap.hasOwnProperty(j)) {\n          attrs.push(nodemap[j])\n        }\n      }\n      attrs.forEach(function(attr) { newScript.setAttribute(attr.name, attr.value) });\n      newScript.appendChild(document.createTextNode(oldScript.innerHTML));\n      oldScript.parentNode.replaceChild(newScript, oldScript);\n    });\n    if (JS_MIME_TYPE in output.data) {\n      toinsert[nchildren-1].children[1].textContent = output.data[JS_MIME_TYPE];\n    }\n    output_area._hv_plot_id = id;\n    if ((window.Bokeh !== undefined) && (id in Bokeh.index)) {\n      window.PyViz.plot_index[id] = Bokeh.index[id];\n    } else {\n      window.PyViz.plot_index[id] = null;\n    }\n  } else if (output.metadata[EXEC_MIME_TYPE][\"server_id\"] !== undefined) {\n    var bk_div = document.createElement(\"div\");\n    bk_div.innerHTML = output.data[HTML_MIME_TYPE];\n    var script_attrs = bk_div.children[0].attributes;\n    for (var i = 0; i < script_attrs.length; i++) {\n      toinsert[toinsert.length - 1].childNodes[1].setAttribute(script_attrs[i].name, script_attrs[i].value);\n    }\n    // store reference to server id on output_area\n    output_area._bokeh_server_id = output.metadata[EXEC_MIME_TYPE][\"server_id\"];\n  }\n}\n\n/**\n * Handle when an output is cleared or removed\n */\nfunction handle_clear_output(event, handle) {\n  var id = handle.cell.output_area._hv_plot_id;\n  var server_id = handle.cell.output_area._bokeh_server_id;\n  if (((id === undefined) || !(id in PyViz.plot_index)) && (server_id !== undefined)) { return; }\n  var comm = window.PyViz.comm_manager.get_client_comm(\"hv-extension-comm\", \"hv-extension-comm\", function () {});\n  if (server_id !== null) {\n    comm.send({event_type: 'server_delete', 'id': server_id});\n    return;\n  } else if (comm !== null) {\n    comm.send({event_type: 'delete', 'id': id});\n  }\n  delete PyViz.plot_index[id];\n  if ((window.Bokeh !== undefined) & (id in window.Bokeh.index)) {\n    var doc = window.Bokeh.index[id].model.document\n    doc.clear();\n    const i = window.Bokeh.documents.indexOf(doc);\n    if (i > -1) {\n      window.Bokeh.documents.splice(i, 1);\n    }\n  }\n}\n\n/**\n * Handle kernel restart event\n */\nfunction handle_kernel_cleanup(event, handle) {\n  delete PyViz.comms[\"hv-extension-comm\"];\n  window.PyViz.plot_index = {}\n}\n\n/**\n * Handle update_display_data messages\n */\nfunction handle_update_output(event, handle) {\n  handle_clear_output(event, {cell: {output_area: handle.output_area}})\n  handle_add_output(event, handle)\n}\n\nfunction register_renderer(events, OutputArea) {\n  function append_mime(data, metadata, element) {\n    // create a DOM node to render to\n    var toinsert = this.create_output_subarea(\n    metadata,\n    CLASS_NAME,\n    EXEC_MIME_TYPE\n    );\n    this.keyboard_manager.register_events(toinsert);\n    // Render to node\n    var props = {data: data, metadata: metadata[EXEC_MIME_TYPE]};\n    render(props, toinsert[0]);\n    element.append(toinsert);\n    return toinsert\n  }\n\n  events.on('output_added.OutputArea', handle_add_output);\n  events.on('output_updated.OutputArea', handle_update_output);\n  events.on('clear_output.CodeCell', handle_clear_output);\n  events.on('delete.Cell', handle_clear_output);\n  events.on('kernel_ready.Kernel', handle_kernel_cleanup);\n\n  OutputArea.prototype.register_mime_type(EXEC_MIME_TYPE, append_mime, {\n    safe: true,\n    index: 0\n  });\n}\n\nif (window.Jupyter !== undefined) {\n  try {\n    var events = require('base/js/events');\n    var OutputArea = require('notebook/js/outputarea').OutputArea;\n    if (OutputArea.prototype.mime_types().indexOf(EXEC_MIME_TYPE) == -1) {\n      register_renderer(events, OutputArea);\n    }\n  } catch(err) {\n  }\n}\n",
            "application/vnd.holoviews_load.v0+json": ""
          },
          "metadata": {},
          "output_type": "display_data"
        },
        {
          "data": {
            "application/vnd.holoviews_exec.v0+json": "",
            "text/html": [
              "<div id='p1002'>\n",
              "  <div id=\"a81576b6-c6a9-415f-9ccb-621c75856eaf\" data-root-id=\"p1002\" style=\"display: contents;\"></div>\n",
              "</div>\n",
              "<script type=\"application/javascript\">(function(root) {\n",
              "  var docs_json = {\"1697d0c3-43f4-4f82-b26c-41bd69ff1d12\":{\"version\":\"3.5.2\",\"title\":\"Bokeh Application\",\"roots\":[{\"type\":\"object\",\"name\":\"panel.models.browser.BrowserInfo\",\"id\":\"p1002\"},{\"type\":\"object\",\"name\":\"panel.models.comm_manager.CommManager\",\"id\":\"p1003\",\"attributes\":{\"plot_id\":\"p1002\",\"comm_id\":\"f524e9d368c743fab3da02b8035acdff\",\"client_comm_id\":\"3f3d8dcc7f9f410a897d36d6de501bf5\"}}],\"defs\":[{\"type\":\"model\",\"name\":\"ReactiveHTML1\"},{\"type\":\"model\",\"name\":\"FlexBox1\",\"properties\":[{\"name\":\"align_content\",\"kind\":\"Any\",\"default\":\"flex-start\"},{\"name\":\"align_items\",\"kind\":\"Any\",\"default\":\"flex-start\"},{\"name\":\"flex_direction\",\"kind\":\"Any\",\"default\":\"row\"},{\"name\":\"flex_wrap\",\"kind\":\"Any\",\"default\":\"wrap\"},{\"name\":\"gap\",\"kind\":\"Any\",\"default\":\"\"},{\"name\":\"justify_content\",\"kind\":\"Any\",\"default\":\"flex-start\"}]},{\"type\":\"model\",\"name\":\"FloatPanel1\",\"properties\":[{\"name\":\"config\",\"kind\":\"Any\",\"default\":{\"type\":\"map\"}},{\"name\":\"contained\",\"kind\":\"Any\",\"default\":true},{\"name\":\"position\",\"kind\":\"Any\",\"default\":\"right-top\"},{\"name\":\"offsetx\",\"kind\":\"Any\",\"default\":null},{\"name\":\"offsety\",\"kind\":\"Any\",\"default\":null},{\"name\":\"theme\",\"kind\":\"Any\",\"default\":\"primary\"},{\"name\":\"status\",\"kind\":\"Any\",\"default\":\"normalized\"}]},{\"type\":\"model\",\"name\":\"GridStack1\",\"properties\":[{\"name\":\"mode\",\"kind\":\"Any\",\"default\":\"warn\"},{\"name\":\"ncols\",\"kind\":\"Any\",\"default\":null},{\"name\":\"nrows\",\"kind\":\"Any\",\"default\":null},{\"name\":\"allow_resize\",\"kind\":\"Any\",\"default\":true},{\"name\":\"allow_drag\",\"kind\":\"Any\",\"default\":true},{\"name\":\"state\",\"kind\":\"Any\",\"default\":[]}]},{\"type\":\"model\",\"name\":\"drag1\",\"properties\":[{\"name\":\"slider_width\",\"kind\":\"Any\",\"default\":5},{\"name\":\"slider_color\",\"kind\":\"Any\",\"default\":\"black\"},{\"name\":\"value\",\"kind\":\"Any\",\"default\":50}]},{\"type\":\"model\",\"name\":\"click1\",\"properties\":[{\"name\":\"terminal_output\",\"kind\":\"Any\",\"default\":\"\"},{\"name\":\"debug_name\",\"kind\":\"Any\",\"default\":\"\"},{\"name\":\"clears\",\"kind\":\"Any\",\"default\":0}]},{\"type\":\"model\",\"name\":\"FastWrapper1\",\"properties\":[{\"name\":\"object\",\"kind\":\"Any\",\"default\":null},{\"name\":\"style\",\"kind\":\"Any\",\"default\":null}]},{\"type\":\"model\",\"name\":\"NotificationAreaBase1\",\"properties\":[{\"name\":\"js_events\",\"kind\":\"Any\",\"default\":{\"type\":\"map\"}},{\"name\":\"position\",\"kind\":\"Any\",\"default\":\"bottom-right\"},{\"name\":\"_clear\",\"kind\":\"Any\",\"default\":0}]},{\"type\":\"model\",\"name\":\"NotificationArea1\",\"properties\":[{\"name\":\"js_events\",\"kind\":\"Any\",\"default\":{\"type\":\"map\"}},{\"name\":\"notifications\",\"kind\":\"Any\",\"default\":[]},{\"name\":\"position\",\"kind\":\"Any\",\"default\":\"bottom-right\"},{\"name\":\"_clear\",\"kind\":\"Any\",\"default\":0},{\"name\":\"types\",\"kind\":\"Any\",\"default\":[{\"type\":\"map\",\"entries\":[[\"type\",\"warning\"],[\"background\",\"#ffc107\"],[\"icon\",{\"type\":\"map\",\"entries\":[[\"className\",\"fas fa-exclamation-triangle\"],[\"tagName\",\"i\"],[\"color\",\"white\"]]}]]},{\"type\":\"map\",\"entries\":[[\"type\",\"info\"],[\"background\",\"#007bff\"],[\"icon\",{\"type\":\"map\",\"entries\":[[\"className\",\"fas fa-info-circle\"],[\"tagName\",\"i\"],[\"color\",\"white\"]]}]]}]}]},{\"type\":\"model\",\"name\":\"Notification\",\"properties\":[{\"name\":\"background\",\"kind\":\"Any\",\"default\":null},{\"name\":\"duration\",\"kind\":\"Any\",\"default\":3000},{\"name\":\"icon\",\"kind\":\"Any\",\"default\":null},{\"name\":\"message\",\"kind\":\"Any\",\"default\":\"\"},{\"name\":\"notification_type\",\"kind\":\"Any\",\"default\":null},{\"name\":\"_destroyed\",\"kind\":\"Any\",\"default\":false}]},{\"type\":\"model\",\"name\":\"TemplateActions1\",\"properties\":[{\"name\":\"open_modal\",\"kind\":\"Any\",\"default\":0},{\"name\":\"close_modal\",\"kind\":\"Any\",\"default\":0}]},{\"type\":\"model\",\"name\":\"BootstrapTemplateActions1\",\"properties\":[{\"name\":\"open_modal\",\"kind\":\"Any\",\"default\":0},{\"name\":\"close_modal\",\"kind\":\"Any\",\"default\":0}]},{\"type\":\"model\",\"name\":\"TemplateEditor1\",\"properties\":[{\"name\":\"layout\",\"kind\":\"Any\",\"default\":[]}]},{\"type\":\"model\",\"name\":\"MaterialTemplateActions1\",\"properties\":[{\"name\":\"open_modal\",\"kind\":\"Any\",\"default\":0},{\"name\":\"close_modal\",\"kind\":\"Any\",\"default\":0}]},{\"type\":\"model\",\"name\":\"ReactiveESM1\"},{\"type\":\"model\",\"name\":\"JSComponent1\"},{\"type\":\"model\",\"name\":\"ReactComponent1\"},{\"type\":\"model\",\"name\":\"AnyWidgetComponent1\"},{\"type\":\"model\",\"name\":\"request_value1\",\"properties\":[{\"name\":\"fill\",\"kind\":\"Any\",\"default\":\"none\"},{\"name\":\"_synced\",\"kind\":\"Any\",\"default\":null},{\"name\":\"_request_sync\",\"kind\":\"Any\",\"default\":0}]}]}};\n",
              "  var render_items = [{\"docid\":\"1697d0c3-43f4-4f82-b26c-41bd69ff1d12\",\"roots\":{\"p1002\":\"a81576b6-c6a9-415f-9ccb-621c75856eaf\"},\"root_ids\":[\"p1002\"]}];\n",
              "  var docs = Object.values(docs_json)\n",
              "  if (!docs) {\n",
              "    return\n",
              "  }\n",
              "  const py_version = docs[0].version.replace('rc', '-rc.').replace('.dev', '-dev.')\n",
              "  async function embed_document(root) {\n",
              "    var Bokeh = get_bokeh(root)\n",
              "    await Bokeh.embed.embed_items_notebook(docs_json, render_items);\n",
              "    for (const render_item of render_items) {\n",
              "      for (const root_id of render_item.root_ids) {\n",
              "\tconst id_el = document.getElementById(root_id)\n",
              "\tif (id_el.children.length && id_el.children[0].hasAttribute('data-root-id')) {\n",
              "\t  const root_el = id_el.children[0]\n",
              "\t  root_el.id = root_el.id + '-rendered'\n",
              "\t  for (const child of root_el.children) {\n",
              "            // Ensure JupyterLab does not capture keyboard shortcuts\n",
              "            // see: https://jupyterlab.readthedocs.io/en/4.1.x/extension/notebook.html#keyboard-interaction-model\n",
              "\t    child.setAttribute('data-lm-suppress-shortcuts', 'true')\n",
              "\t  }\n",
              "\t}\n",
              "      }\n",
              "    }\n",
              "  }\n",
              "  function get_bokeh(root) {\n",
              "    if (root.Bokeh === undefined) {\n",
              "      return null\n",
              "    } else if (root.Bokeh.version !== py_version) {\n",
              "      if (root.Bokeh.versions === undefined || !root.Bokeh.versions.has(py_version)) {\n",
              "\treturn null\n",
              "      }\n",
              "      return root.Bokeh.versions.get(py_version);\n",
              "    } else if (root.Bokeh.version === py_version) {\n",
              "      return root.Bokeh\n",
              "    }\n",
              "    return null\n",
              "  }\n",
              "  function is_loaded(root) {\n",
              "    var Bokeh = get_bokeh(root)\n",
              "    return (Bokeh != null && Bokeh.Panel !== undefined)\n",
              "  }\n",
              "  if (is_loaded(root)) {\n",
              "    embed_document(root);\n",
              "  } else {\n",
              "    var attempts = 0;\n",
              "    var timer = setInterval(function(root) {\n",
              "      if (is_loaded(root)) {\n",
              "        clearInterval(timer);\n",
              "        embed_document(root);\n",
              "      } else if (document.readyState == \"complete\") {\n",
              "        attempts++;\n",
              "        if (attempts > 200) {\n",
              "          clearInterval(timer);\n",
              "\t  var Bokeh = get_bokeh(root)\n",
              "\t  if (Bokeh == null || Bokeh.Panel == null) {\n",
              "            console.warn(\"Panel: ERROR: Unable to run Panel code because Bokeh or Panel library is missing\");\n",
              "\t  } else {\n",
              "\t    console.warn(\"Panel: WARNING: Attempting to render but not all required libraries could be resolved.\")\n",
              "\t    embed_document(root)\n",
              "\t  }\n",
              "        }\n",
              "      }\n",
              "    }, 25, root)\n",
              "  }\n",
              "})(window);</script>"
            ]
          },
          "metadata": {
            "application/vnd.holoviews_exec.v0+json": {
              "id": "p1002"
            }
          },
          "output_type": "display_data"
        },
        {
          "data": {
            "text/html": [
              "<script type=\"esms-options\">{\"shimMode\": true}</script><style>*[data-root-id],\n",
              "*[data-root-id] > * {\n",
              "  box-sizing: border-box;\n",
              "  font-family: var(--jp-ui-font-family);\n",
              "  font-size: var(--jp-ui-font-size1);\n",
              "  color: var(--vscode-editor-foreground, var(--jp-ui-font-color1));\n",
              "}\n",
              "\n",
              "/* Override VSCode background color */\n",
              ".cell-output-ipywidget-background:has(\n",
              "    > .cell-output-ipywidget-background > .lm-Widget > *[data-root-id]\n",
              "  ),\n",
              ".cell-output-ipywidget-background:has(> .lm-Widget > *[data-root-id]) {\n",
              "  background-color: transparent !important;\n",
              "}\n",
              "</style>"
            ]
          },
          "metadata": {},
          "output_type": "display_data"
        },
        {
          "data": {
            "application/javascript": "(function(root) {\n  function now() {\n    return new Date();\n  }\n\n  const force = false;\n  const py_version = '3.5.2'.replace('rc', '-rc.').replace('.dev', '-dev.');\n  const reloading = true;\n  const Bokeh = root.Bokeh;\n\n  // Set a timeout for this load but only if we are not already initializing\n  if (typeof (root._bokeh_timeout) === \"undefined\" || (force || !root._bokeh_is_initializing)) {\n    root._bokeh_timeout = Date.now() + 5000;\n    root._bokeh_failed_load = false;\n  }\n\n  function run_callbacks() {\n    try {\n      root._bokeh_onload_callbacks.forEach(function(callback) {\n        if (callback != null)\n          callback();\n      });\n    } finally {\n      delete root._bokeh_onload_callbacks;\n    }\n    console.debug(\"Bokeh: all callbacks have finished\");\n  }\n\n  function load_libs(css_urls, js_urls, js_modules, js_exports, callback) {\n    if (css_urls == null) css_urls = [];\n    if (js_urls == null) js_urls = [];\n    if (js_modules == null) js_modules = [];\n    if (js_exports == null) js_exports = {};\n\n    root._bokeh_onload_callbacks.push(callback);\n\n    if (root._bokeh_is_loading > 0) {\n      // Don't load bokeh if it is still initializing\n      console.debug(\"Bokeh: BokehJS is being loaded, scheduling callback at\", now());\n      return null;\n    } else if (js_urls.length === 0 && js_modules.length === 0 && Object.keys(js_exports).length === 0) {\n      // There is nothing to load\n      run_callbacks();\n      return null;\n    }\n\n    function on_load() {\n      root._bokeh_is_loading--;\n      if (root._bokeh_is_loading === 0) {\n        console.debug(\"Bokeh: all BokehJS libraries/stylesheets loaded\");\n        run_callbacks()\n      }\n    }\n    window._bokeh_on_load = on_load\n\n    function on_error(e) {\n      const src_el = e.srcElement\n      console.error(\"failed to load \" + (src_el.href || src_el.src));\n    }\n\n    const skip = [];\n    if (window.requirejs) {\n      window.requirejs.config({'packages': {}, 'paths': {}, 'shim': {}});\n      root._bokeh_is_loading = css_urls.length + 0;\n    } else {\n      root._bokeh_is_loading = css_urls.length + js_urls.length + js_modules.length + Object.keys(js_exports).length;\n    }\n\n    const existing_stylesheets = []\n    const links = document.getElementsByTagName('link')\n    for (let i = 0; i < links.length; i++) {\n      const link = links[i]\n      if (link.href != null) {\n        existing_stylesheets.push(link.href)\n      }\n    }\n    for (let i = 0; i < css_urls.length; i++) {\n      const url = css_urls[i];\n      const escaped = encodeURI(url)\n      if (existing_stylesheets.indexOf(escaped) !== -1) {\n        on_load()\n        continue;\n      }\n      const element = document.createElement(\"link\");\n      element.onload = on_load;\n      element.onerror = on_error;\n      element.rel = \"stylesheet\";\n      element.type = \"text/css\";\n      element.href = url;\n      console.debug(\"Bokeh: injecting link tag for BokehJS stylesheet: \", url);\n      document.body.appendChild(element);\n    }    var existing_scripts = []\n    const scripts = document.getElementsByTagName('script')\n    for (let i = 0; i < scripts.length; i++) {\n      var script = scripts[i]\n      if (script.src != null) {\n        existing_scripts.push(script.src)\n      }\n    }\n    for (let i = 0; i < js_urls.length; i++) {\n      const url = js_urls[i];\n      const escaped = encodeURI(url)\n      if (skip.indexOf(escaped) !== -1 || existing_scripts.indexOf(escaped) !== -1) {\n        if (!window.requirejs) {\n          on_load();\n        }\n        continue;\n      }\n      const element = document.createElement('script');\n      element.onload = on_load;\n      element.onerror = on_error;\n      element.async = false;\n      element.src = url;\n      console.debug(\"Bokeh: injecting script tag for BokehJS library: \", url);\n      document.head.appendChild(element);\n    }\n    for (let i = 0; i < js_modules.length; i++) {\n      const url = js_modules[i];\n      const escaped = encodeURI(url)\n      if (skip.indexOf(escaped) !== -1 || existing_scripts.indexOf(escaped) !== -1) {\n        if (!window.requirejs) {\n          on_load();\n        }\n        continue;\n      }\n      var element = document.createElement('script');\n      element.onload = on_load;\n      element.onerror = on_error;\n      element.async = false;\n      element.src = url;\n      element.type = \"module\";\n      console.debug(\"Bokeh: injecting script tag for BokehJS library: \", url);\n      document.head.appendChild(element);\n    }\n    for (const name in js_exports) {\n      const url = js_exports[name];\n      const escaped = encodeURI(url)\n      if (skip.indexOf(escaped) >= 0 || root[name] != null) {\n        if (!window.requirejs) {\n          on_load();\n        }\n        continue;\n      }\n      var element = document.createElement('script');\n      element.onerror = on_error;\n      element.async = false;\n      element.type = \"module\";\n      console.debug(\"Bokeh: injecting script tag for BokehJS library: \", url);\n      element.textContent = `\n      import ${name} from \"${url}\"\n      window.${name} = ${name}\n      window._bokeh_on_load()\n      `\n      document.head.appendChild(element);\n    }\n    if (!js_urls.length && !js_modules.length) {\n      on_load()\n    }\n  };\n\n  function inject_raw_css(css) {\n    const element = document.createElement(\"style\");\n    element.appendChild(document.createTextNode(css));\n    document.body.appendChild(element);\n  }\n\n  const js_urls = [\"https://cdn.holoviz.org/panel/1.5.2/dist/bundled/reactiveesm/es-module-shims@^1.10.0/dist/es-module-shims.min.js\"];\n  const js_modules = [];\n  const js_exports = {};\n  const css_urls = [];\n  const inline_js = [    function(Bokeh) {\n      Bokeh.set_log_level(\"info\");\n    },\nfunction(Bokeh) {} // ensure no trailing comma for IE\n  ];\n\n  function run_inline_js() {\n    if ((root.Bokeh !== undefined) || (force === true)) {\n      for (let i = 0; i < inline_js.length; i++) {\n        try {\n          inline_js[i].call(root, root.Bokeh);\n        } catch(e) {\n          if (!reloading) {\n            throw e;\n          }\n        }\n      }\n      // Cache old bokeh versions\n      if (Bokeh != undefined && !reloading) {\n        var NewBokeh = root.Bokeh;\n        if (Bokeh.versions === undefined) {\n          Bokeh.versions = new Map();\n        }\n        if (NewBokeh.version !== Bokeh.version) {\n          Bokeh.versions.set(NewBokeh.version, NewBokeh)\n        }\n        root.Bokeh = Bokeh;\n      }\n    } else if (Date.now() < root._bokeh_timeout) {\n      setTimeout(run_inline_js, 100);\n    } else if (!root._bokeh_failed_load) {\n      console.log(\"Bokeh: BokehJS failed to load within specified timeout.\");\n      root._bokeh_failed_load = true;\n    }\n    root._bokeh_is_initializing = false\n  }\n\n  function load_or_wait() {\n    // Implement a backoff loop that tries to ensure we do not load multiple\n    // versions of Bokeh and its dependencies at the same time.\n    // In recent versions we use the root._bokeh_is_initializing flag\n    // to determine whether there is an ongoing attempt to initialize\n    // bokeh, however for backward compatibility we also try to ensure\n    // that we do not start loading a newer (Panel>=1.0 and Bokeh>3) version\n    // before older versions are fully initialized.\n    if (root._bokeh_is_initializing && Date.now() > root._bokeh_timeout) {\n      // If the timeout and bokeh was not successfully loaded we reset\n      // everything and try loading again\n      root._bokeh_timeout = Date.now() + 5000;\n      root._bokeh_is_initializing = false;\n      root._bokeh_onload_callbacks = undefined;\n      root._bokeh_is_loading = 0\n      console.log(\"Bokeh: BokehJS was loaded multiple times but one version failed to initialize.\");\n      load_or_wait();\n    } else if (root._bokeh_is_initializing || (typeof root._bokeh_is_initializing === \"undefined\" && root._bokeh_onload_callbacks !== undefined)) {\n      setTimeout(load_or_wait, 100);\n    } else {\n      root._bokeh_is_initializing = true\n      root._bokeh_onload_callbacks = []\n      const bokeh_loaded = root.Bokeh != null && (root.Bokeh.version === py_version || (root.Bokeh.versions !== undefined && root.Bokeh.versions.has(py_version)));\n      if (!reloading && !bokeh_loaded) {\n        if (root.Bokeh) {\n          root.Bokeh = undefined;\n        }\n        console.debug(\"Bokeh: BokehJS not loaded, scheduling load and callback at\", now());\n      }\n      load_libs(css_urls, js_urls, js_modules, js_exports, function() {\n        console.debug(\"Bokeh: BokehJS plotting callback run at\", now());\n        run_inline_js();\n      });\n    }\n  }\n  // Give older versions of the autoload script a head-start to ensure\n  // they initialize before we start loading newer version.\n  setTimeout(load_or_wait, 100)\n}(window));",
            "application/vnd.holoviews_load.v0+json": ""
          },
          "metadata": {},
          "output_type": "display_data"
        },
        {
          "data": {
            "application/javascript": "\nif ((window.PyViz === undefined) || (window.PyViz instanceof HTMLElement)) {\n  window.PyViz = {comms: {}, comm_status:{}, kernels:{}, receivers: {}, plot_index: []}\n}\n\n\n    function JupyterCommManager() {\n    }\n\n    JupyterCommManager.prototype.register_target = function(plot_id, comm_id, msg_handler) {\n      if (window.comm_manager || ((window.Jupyter !== undefined) && (Jupyter.notebook.kernel != null))) {\n        var comm_manager = window.comm_manager || Jupyter.notebook.kernel.comm_manager;\n        comm_manager.register_target(comm_id, function(comm) {\n          comm.on_msg(msg_handler);\n        });\n      } else if ((plot_id in window.PyViz.kernels) && (window.PyViz.kernels[plot_id])) {\n        window.PyViz.kernels[plot_id].registerCommTarget(comm_id, function(comm) {\n          comm.onMsg = msg_handler;\n        });\n      } else if (typeof google != 'undefined' && google.colab.kernel != null) {\n        google.colab.kernel.comms.registerTarget(comm_id, (comm) => {\n          var messages = comm.messages[Symbol.asyncIterator]();\n          function processIteratorResult(result) {\n            var message = result.value;\n            console.log(message)\n            var content = {data: message.data, comm_id};\n            var buffers = []\n            for (var buffer of message.buffers || []) {\n              buffers.push(new DataView(buffer))\n            }\n            var metadata = message.metadata || {};\n            var msg = {content, buffers, metadata}\n            msg_handler(msg);\n            return messages.next().then(processIteratorResult);\n          }\n          return messages.next().then(processIteratorResult);\n        })\n      }\n    }\n\n    JupyterCommManager.prototype.get_client_comm = function(plot_id, comm_id, msg_handler) {\n      if (comm_id in window.PyViz.comms) {\n        return window.PyViz.comms[comm_id];\n      } else if (window.comm_manager || ((window.Jupyter !== undefined) && (Jupyter.notebook.kernel != null))) {\n        var comm_manager = window.comm_manager || Jupyter.notebook.kernel.comm_manager;\n        var comm = comm_manager.new_comm(comm_id, {}, {}, {}, comm_id);\n        if (msg_handler) {\n          comm.on_msg(msg_handler);\n        }\n      } else if ((plot_id in window.PyViz.kernels) && (window.PyViz.kernels[plot_id])) {\n        var comm = window.PyViz.kernels[plot_id].connectToComm(comm_id);\n        comm.open();\n        if (msg_handler) {\n          comm.onMsg = msg_handler;\n        }\n      } else if (typeof google != 'undefined' && google.colab.kernel != null) {\n        var comm_promise = google.colab.kernel.comms.open(comm_id)\n        comm_promise.then((comm) => {\n          window.PyViz.comms[comm_id] = comm;\n          if (msg_handler) {\n            var messages = comm.messages[Symbol.asyncIterator]();\n            function processIteratorResult(result) {\n              var message = result.value;\n              var content = {data: message.data};\n              var metadata = message.metadata || {comm_id};\n              var msg = {content, metadata}\n              msg_handler(msg);\n              return messages.next().then(processIteratorResult);\n            }\n            return messages.next().then(processIteratorResult);\n          }\n        }) \n        var sendClosure = (data, metadata, buffers, disposeOnDone) => {\n          return comm_promise.then((comm) => {\n            comm.send(data, metadata, buffers, disposeOnDone);\n          });\n        };\n        var comm = {\n          send: sendClosure\n        };\n      }\n      window.PyViz.comms[comm_id] = comm;\n      return comm;\n    }\n    window.PyViz.comm_manager = new JupyterCommManager();\n    \n\n\nvar JS_MIME_TYPE = 'application/javascript';\nvar HTML_MIME_TYPE = 'text/html';\nvar EXEC_MIME_TYPE = 'application/vnd.holoviews_exec.v0+json';\nvar CLASS_NAME = 'output';\n\n/**\n * Render data to the DOM node\n */\nfunction render(props, node) {\n  var div = document.createElement(\"div\");\n  var script = document.createElement(\"script\");\n  node.appendChild(div);\n  node.appendChild(script);\n}\n\n/**\n * Handle when a new output is added\n */\nfunction handle_add_output(event, handle) {\n  var output_area = handle.output_area;\n  var output = handle.output;\n  if ((output.data == undefined) || (!output.data.hasOwnProperty(EXEC_MIME_TYPE))) {\n    return\n  }\n  var id = output.metadata[EXEC_MIME_TYPE][\"id\"];\n  var toinsert = output_area.element.find(\".\" + CLASS_NAME.split(' ')[0]);\n  if (id !== undefined) {\n    var nchildren = toinsert.length;\n    var html_node = toinsert[nchildren-1].children[0];\n    html_node.innerHTML = output.data[HTML_MIME_TYPE];\n    var scripts = [];\n    var nodelist = html_node.querySelectorAll(\"script\");\n    for (var i in nodelist) {\n      if (nodelist.hasOwnProperty(i)) {\n        scripts.push(nodelist[i])\n      }\n    }\n\n    scripts.forEach( function (oldScript) {\n      var newScript = document.createElement(\"script\");\n      var attrs = [];\n      var nodemap = oldScript.attributes;\n      for (var j in nodemap) {\n        if (nodemap.hasOwnProperty(j)) {\n          attrs.push(nodemap[j])\n        }\n      }\n      attrs.forEach(function(attr) { newScript.setAttribute(attr.name, attr.value) });\n      newScript.appendChild(document.createTextNode(oldScript.innerHTML));\n      oldScript.parentNode.replaceChild(newScript, oldScript);\n    });\n    if (JS_MIME_TYPE in output.data) {\n      toinsert[nchildren-1].children[1].textContent = output.data[JS_MIME_TYPE];\n    }\n    output_area._hv_plot_id = id;\n    if ((window.Bokeh !== undefined) && (id in Bokeh.index)) {\n      window.PyViz.plot_index[id] = Bokeh.index[id];\n    } else {\n      window.PyViz.plot_index[id] = null;\n    }\n  } else if (output.metadata[EXEC_MIME_TYPE][\"server_id\"] !== undefined) {\n    var bk_div = document.createElement(\"div\");\n    bk_div.innerHTML = output.data[HTML_MIME_TYPE];\n    var script_attrs = bk_div.children[0].attributes;\n    for (var i = 0; i < script_attrs.length; i++) {\n      toinsert[toinsert.length - 1].childNodes[1].setAttribute(script_attrs[i].name, script_attrs[i].value);\n    }\n    // store reference to server id on output_area\n    output_area._bokeh_server_id = output.metadata[EXEC_MIME_TYPE][\"server_id\"];\n  }\n}\n\n/**\n * Handle when an output is cleared or removed\n */\nfunction handle_clear_output(event, handle) {\n  var id = handle.cell.output_area._hv_plot_id;\n  var server_id = handle.cell.output_area._bokeh_server_id;\n  if (((id === undefined) || !(id in PyViz.plot_index)) && (server_id !== undefined)) { return; }\n  var comm = window.PyViz.comm_manager.get_client_comm(\"hv-extension-comm\", \"hv-extension-comm\", function () {});\n  if (server_id !== null) {\n    comm.send({event_type: 'server_delete', 'id': server_id});\n    return;\n  } else if (comm !== null) {\n    comm.send({event_type: 'delete', 'id': id});\n  }\n  delete PyViz.plot_index[id];\n  if ((window.Bokeh !== undefined) & (id in window.Bokeh.index)) {\n    var doc = window.Bokeh.index[id].model.document\n    doc.clear();\n    const i = window.Bokeh.documents.indexOf(doc);\n    if (i > -1) {\n      window.Bokeh.documents.splice(i, 1);\n    }\n  }\n}\n\n/**\n * Handle kernel restart event\n */\nfunction handle_kernel_cleanup(event, handle) {\n  delete PyViz.comms[\"hv-extension-comm\"];\n  window.PyViz.plot_index = {}\n}\n\n/**\n * Handle update_display_data messages\n */\nfunction handle_update_output(event, handle) {\n  handle_clear_output(event, {cell: {output_area: handle.output_area}})\n  handle_add_output(event, handle)\n}\n\nfunction register_renderer(events, OutputArea) {\n  function append_mime(data, metadata, element) {\n    // create a DOM node to render to\n    var toinsert = this.create_output_subarea(\n    metadata,\n    CLASS_NAME,\n    EXEC_MIME_TYPE\n    );\n    this.keyboard_manager.register_events(toinsert);\n    // Render to node\n    var props = {data: data, metadata: metadata[EXEC_MIME_TYPE]};\n    render(props, toinsert[0]);\n    element.append(toinsert);\n    return toinsert\n  }\n\n  events.on('output_added.OutputArea', handle_add_output);\n  events.on('output_updated.OutputArea', handle_update_output);\n  events.on('clear_output.CodeCell', handle_clear_output);\n  events.on('delete.Cell', handle_clear_output);\n  events.on('kernel_ready.Kernel', handle_kernel_cleanup);\n\n  OutputArea.prototype.register_mime_type(EXEC_MIME_TYPE, append_mime, {\n    safe: true,\n    index: 0\n  });\n}\n\nif (window.Jupyter !== undefined) {\n  try {\n    var events = require('base/js/events');\n    var OutputArea = require('notebook/js/outputarea').OutputArea;\n    if (OutputArea.prototype.mime_types().indexOf(EXEC_MIME_TYPE) == -1) {\n      register_renderer(events, OutputArea);\n    }\n  } catch(err) {\n  }\n}\n",
            "application/vnd.holoviews_load.v0+json": ""
          },
          "metadata": {},
          "output_type": "display_data"
        }
      ],
      "source": [
        "# load packages\n",
        "\n",
        "# reproducible file paths\n",
        "import os\n",
        "from glob import glob\n",
        "import pathlib\n",
        "\n",
        "# gbif packages\n",
        "# need to install pygbif\n",
        "import pygbif.occurrences as occ\n",
        "import pygbif.species as species\n",
        "from getpass import getpass\n",
        "\n",
        "# unzipping and handling gbif data\n",
        "import zipfile\n",
        "import time\n",
        "\n",
        "# deal with spatial data\n",
        "import geopandas as gpd\n",
        "import xrspatial\n",
        "\n",
        "# deal w/ other types of data\n",
        "import numpy as np\n",
        "import pandas as pd\n",
        "import rioxarray as rxr\n",
        "import rioxarray.merge as rxrm\n",
        "\n",
        "# invalied geometries\n",
        "from shapely.geometry import MultiPolygon, Polygon\n",
        "\n",
        "# packages for visualizing\n",
        "import holoviews as hv\n",
        "import hvplot.pandas\n",
        "import hvplot.xarray"
      ]
    },
    {
      "cell_type": "code",
      "execution_count": 3,
      "id": "b0a19deb",
      "metadata": {},
      "outputs": [],
      "source": [
        "# make reproducible file paths\n",
        "data_dir = os.path.join(\n",
        "    # home directory\n",
        "    pathlib.Path.home(),\n",
        "\n",
        "    # eda directory\n",
        "    'earth-analytics',\n",
        "    'data',\n",
        "\n",
        "    # project directory\n",
        "    'aspen-habitat-suitability'\n",
        ")\n",
        "\n",
        "# make the directory\n",
        "os.makedirs(data_dir, exist_ok=True)"
      ]
    },
    {
      "cell_type": "code",
      "execution_count": 8,
      "id": "88cfa35b",
      "metadata": {},
      "outputs": [],
      "source": [
        "# set gbif dir\n",
        "gbif_dir = os.path.join(data_dir, 'gbif_aspen')"
      ]
    },
    {
      "cell_type": "code",
      "execution_count": 9,
      "id": "7a3ea1b6",
      "metadata": {},
      "outputs": [],
      "source": [
        "# access gbif\n",
        "reset_credentials = False\n",
        "\n",
        "# enter gbif username, password, and email\n",
        "credentials = dict(\n",
        "    GBIF_USER=(input, 'GBIF username'),\n",
        "    GBIF_PWD=(getpass, 'GBIF password'),\n",
        "    GBIF_EMAIL=(input, 'GBIF email')\n",
        ")\n",
        "\n",
        "for env_variable, (prompt_func, prompt_text) in credentials.items():\n",
        "    # delete credential from the environment if requested\n",
        "    if reset_credentials and (env_variable in os.environ):\n",
        "        os.environ.pop(env_variable)\n",
        "    \n",
        "    # ask for credential and save to environment\n",
        "    if not env_variable in os.environ:\n",
        "        os.environ[env_variable] = prompt_func(prompt_text)"
      ]
    },
    {
      "cell_type": "code",
      "execution_count": 10,
      "id": "ff56fa51",
      "metadata": {},
      "outputs": [
        {
          "data": {
            "text/plain": [
              "('Taracus aspenae', 9746340)"
            ]
          },
          "execution_count": 10,
          "metadata": {},
          "output_type": "execute_result"
        }
      ],
      "source": [
        "# species names\n",
        "species_name = 'aspen'\n",
        "\n",
        "# species info for gbif\n",
        "species_info = species.name_lookup(species_name,\n",
        "                                   rank = 'SPECIES')\n",
        "\n",
        "# grab first result\n",
        "first_result = species_info['results'][0]\n",
        "\n",
        "# get species key\n",
        "species_key = first_result['nubKey']\n",
        "\n",
        "# check first_result\n",
        "first_result['species'], species_key"
      ]
    },
    {
      "cell_type": "code",
      "execution_count": 11,
      "id": "f9fec594",
      "metadata": {},
      "outputs": [],
      "source": [
        "#save species code\n",
        "species_key = 9746340"
      ]
    },
    {
      "cell_type": "code",
      "execution_count": null,
      "id": "d2b727be",
      "metadata": {},
      "outputs": [
        {
          "ename": "Exception",
          "evalue": "error: <!DOCTYPE html>\n<html>\n  <head>\n    <title>503 Backend fetch failed</title>\n  </head>\n  <body>\n    <h1>Error 503 Backend fetch failed</h1>\n    <p>Backend fetch failed</p>\n    <h3>Guru Meditation:</h3>\n    <p>XID: 113741776</p>\n    <hr>\n    <p>Varnish cache server</p>\n  </body>\n</html>\n, with error status code 503check your number of active downloads.",
          "output_type": "error",
          "traceback": [
            "\u001b[1;31m---------------------------------------------------------------------------\u001b[0m",
            "\u001b[1;31mException\u001b[0m                                 Traceback (most recent call last)",
            "Cell \u001b[1;32mIn[13], line 8\u001b[0m\n\u001b[0;32m      5\u001b[0m \u001b[38;5;66;03m# download it once\u001b[39;00m\n\u001b[0;32m      6\u001b[0m \u001b[38;5;28;01mif\u001b[39;00m \u001b[38;5;129;01mnot\u001b[39;00m glob(gbif_pattern):\n\u001b[0;32m      7\u001b[0m     \u001b[38;5;66;03m# submit query to GBIF\u001b[39;00m\n\u001b[1;32m----> 8\u001b[0m     gbif_query \u001b[38;5;241m=\u001b[39m \u001b[43mocc\u001b[49m\u001b[38;5;241;43m.\u001b[39;49m\u001b[43mdownload\u001b[49m\u001b[43m(\u001b[49m\u001b[43m[\u001b[49m\n\u001b[0;32m      9\u001b[0m \u001b[43m        \u001b[49m\u001b[38;5;124;43mf\u001b[39;49m\u001b[38;5;124;43m'\u001b[39;49m\u001b[38;5;124;43mspeciesKey = \u001b[39;49m\u001b[38;5;132;43;01m{\u001b[39;49;00m\u001b[43mspecies_key\u001b[49m\u001b[38;5;132;43;01m}\u001b[39;49;00m\u001b[38;5;124;43m'\u001b[39;49m\u001b[43m,\u001b[49m\n\u001b[0;32m     10\u001b[0m \u001b[43m        \u001b[49m\u001b[38;5;124;43m'\u001b[39;49m\u001b[38;5;124;43mhasCoordinate = True\u001b[39;49m\u001b[38;5;124;43m'\u001b[39;49m\n\u001b[0;32m     11\u001b[0m \u001b[43m    \u001b[49m\u001b[43m]\u001b[49m\u001b[43m)\u001b[49m\n\u001b[0;32m     13\u001b[0m     \u001b[38;5;66;03m# only download once\u001b[39;00m\n\u001b[0;32m     14\u001b[0m     \u001b[38;5;28;01mif\u001b[39;00m \u001b[38;5;129;01mnot\u001b[39;00m \u001b[38;5;124m'\u001b[39m\u001b[38;5;124mGBIF_DOWNLOAD_KEY\u001b[39m\u001b[38;5;124m'\u001b[39m \u001b[38;5;129;01min\u001b[39;00m os\u001b[38;5;241m.\u001b[39menviron:\n",
            "File \u001b[1;32mc:\\Users\\riede\\miniconda3\\envs\\earth-analytics-python\\Lib\\site-packages\\pygbif\\occurrences\\download.py:273\u001b[0m, in \u001b[0;36mdownload\u001b[1;34m(queries, format, user, pwd, email, pred_type)\u001b[0m\n\u001b[0;32m    270\u001b[0m     \u001b[38;5;28;01mfor\u001b[39;00m predicate \u001b[38;5;129;01min\u001b[39;00m keyval:\n\u001b[0;32m    271\u001b[0m         req\u001b[38;5;241m.\u001b[39madd_predicate_dict(predicate)\n\u001b[1;32m--> 273\u001b[0m out \u001b[38;5;241m=\u001b[39m \u001b[43mreq\u001b[49m\u001b[38;5;241;43m.\u001b[39;49m\u001b[43mpost_download\u001b[49m\u001b[43m(\u001b[49m\u001b[43muser\u001b[49m\u001b[43m,\u001b[49m\u001b[43m \u001b[49m\u001b[43mpwd\u001b[49m\u001b[43m)\u001b[49m\n\u001b[0;32m    274\u001b[0m \u001b[38;5;28;01mreturn\u001b[39;00m out, req\u001b[38;5;241m.\u001b[39mpayload\n",
            "File \u001b[1;32mc:\\Users\\riede\\miniconda3\\envs\\earth-analytics-python\\Lib\\site-packages\\pygbif\\occurrences\\download.py:484\u001b[0m, in \u001b[0;36mGbifDownload.post_download\u001b[1;34m(self, user, pwd)\u001b[0m\n\u001b[0;32m    477\u001b[0m r \u001b[38;5;241m=\u001b[39m requests\u001b[38;5;241m.\u001b[39mpost(\n\u001b[0;32m    478\u001b[0m     \u001b[38;5;28mself\u001b[39m\u001b[38;5;241m.\u001b[39murl,\n\u001b[0;32m    479\u001b[0m     auth\u001b[38;5;241m=\u001b[39mrequests\u001b[38;5;241m.\u001b[39mauth\u001b[38;5;241m.\u001b[39mHTTPBasicAuth(user, pwd),\n\u001b[0;32m    480\u001b[0m     data\u001b[38;5;241m=\u001b[39mjson\u001b[38;5;241m.\u001b[39mdumps(\u001b[38;5;28mself\u001b[39m\u001b[38;5;241m.\u001b[39mpayload),\n\u001b[0;32m    481\u001b[0m     headers\u001b[38;5;241m=\u001b[39m\u001b[38;5;28mself\u001b[39m\u001b[38;5;241m.\u001b[39mheader,\n\u001b[0;32m    482\u001b[0m )\n\u001b[0;32m    483\u001b[0m \u001b[38;5;28;01mif\u001b[39;00m r\u001b[38;5;241m.\u001b[39mstatus_code \u001b[38;5;241m>\u001b[39m \u001b[38;5;241m203\u001b[39m:\n\u001b[1;32m--> 484\u001b[0m     \u001b[38;5;28;01mraise\u001b[39;00m \u001b[38;5;167;01mException\u001b[39;00m(\n\u001b[0;32m    485\u001b[0m         \u001b[38;5;124m\"\u001b[39m\u001b[38;5;124merror: \u001b[39m\u001b[38;5;124m\"\u001b[39m\n\u001b[0;32m    486\u001b[0m         \u001b[38;5;241m+\u001b[39m r\u001b[38;5;241m.\u001b[39mtext\n\u001b[0;32m    487\u001b[0m         \u001b[38;5;241m+\u001b[39m \u001b[38;5;124m\"\u001b[39m\u001b[38;5;124m, with error status code \u001b[39m\u001b[38;5;124m\"\u001b[39m\n\u001b[0;32m    488\u001b[0m         \u001b[38;5;241m+\u001b[39m \u001b[38;5;28mstr\u001b[39m(r\u001b[38;5;241m.\u001b[39mstatus_code)\n\u001b[0;32m    489\u001b[0m         \u001b[38;5;241m+\u001b[39m \u001b[38;5;124m\"\u001b[39m\u001b[38;5;124mcheck your number of active downloads.\u001b[39m\u001b[38;5;124m\"\u001b[39m\n\u001b[0;32m    490\u001b[0m     )\n\u001b[0;32m    491\u001b[0m \u001b[38;5;28;01melse\u001b[39;00m:\n\u001b[0;32m    492\u001b[0m     \u001b[38;5;28mself\u001b[39m\u001b[38;5;241m.\u001b[39mrequest_id \u001b[38;5;241m=\u001b[39m r\u001b[38;5;241m.\u001b[39mtext\n",
            "\u001b[1;31mException\u001b[0m: error: <!DOCTYPE html>\n<html>\n  <head>\n    <title>503 Backend fetch failed</title>\n  </head>\n  <body>\n    <h1>Error 503 Backend fetch failed</h1>\n    <p>Backend fetch failed</p>\n    <h3>Guru Meditation:</h3>\n    <p>XID: 113741776</p>\n    <hr>\n    <p>Varnish cache server</p>\n  </body>\n</html>\n, with error status code 503check your number of active downloads."
          ]
        }
      ],
      "source": [
        "# set a file pattern \n",
        "gbif_pattern = os.path.join(gbif_dir,\n",
        "                            '*csv')\n",
        "\n",
        "# download it once\n",
        "if not glob(gbif_pattern):\n",
        "    # submit query to GBIF to get all data from all years\n",
        "    gbif_query = occ.download([\n",
        "        f'speciesKey = {species_key}',\n",
        "        'hasCoordinate = True'\n",
        "    ])\n",
        "\n",
        "    # only download once\n",
        "    if not 'GBIF_DOWNLOAD_KEY' in os.environ:\n",
        "        os.environ['GBIF_DOWNLOAD_KEY'] = gbif_query[0]\n",
        "        download_key = os.environ['GBIF_DOWNLOAD_KEY'] \n",
        "\n",
        "        # wait for downlaod to build\n",
        "        wait = occ.download_meta(download_key)['status']\n",
        "        while not wait == 'SUCCEEDED' :\n",
        "            wait = occ.download_meta(download_key)['status']\n",
        "            time.sleep(5)\n",
        "    # download the data\n",
        "    download_info = occ.download_get(\n",
        "        os.environ['GBIF_DOWNLOAD_KEY'],\n",
        "        path = data_dir\n",
        "    )\n",
        "\n",
        "    # unzip it\n",
        "    with zipfile.ZipFile(download_info['path']) as download_zip:\n",
        "        download_zip.extractall(path = gbif_dir)\n",
        "\n",
        "# find csv file path\n",
        "gbif_path = glob(gbif_pattern)[0]"
      ]
    },
    {
      "cell_type": "code",
      "execution_count": null,
      "id": "f3f12935",
      "metadata": {},
      "outputs": [],
      "source": []
    },
    {
      "cell_type": "markdown",
      "id": "0460af76-926f-43a1-b671-47f75613a5c1",
      "metadata": {},
      "source": [
        "### Species\n",
        "\n",
        "<link rel=\"stylesheet\" type=\"text/css\" href=\"./assets/styles.css\"><div class=\"callout callout-style-default callout-titled callout-task\"><div class=\"callout-header\"><div class=\"callout-icon-container\"><i class=\"callout-icon\"></i></div><div class=\"callout-title-container flex-fill\">Try It</div></div><div class=\"callout-body-container callout-body\"><p>Select the species you want to study, and research it’s habitat\n",
        "parameters in scientific studies or other reliable sources. You will\n",
        "want to look for reviews or overviews of the data, since an individual\n",
        "study may not have the breadth needed for this purpose. In the US, the\n",
        "National Resource Conservation Service can have helpful fact sheets\n",
        "about different species. University Extension programs are also good\n",
        "resources for summaries.</p>\n",
        "<p>Based on your research, select soil, topographic, and climate\n",
        "variables that you can use to determine if a particular location and\n",
        "time period is a suitable habitat for your species.</p></div></div>\n",
        "\n",
        "<link rel=\"stylesheet\" type=\"text/css\" href=\"./assets/styles.css\"><div class=\"callout callout-style-default callout-titled callout-respond\"><div class=\"callout-header\"><div class=\"callout-icon-container\"><i class=\"callout-icon\"></i></div><div class=\"callout-title-container flex-fill\">Reflect and Respond</div></div><div class=\"callout-body-container callout-body\"><p>Write a description of your species. What habitat is it found in?\n",
        "What is its geographic range? What, if any, are conservation threats to\n",
        "the species? What data will shed the most light on habitat suitability\n",
        "for this species?</p></div></div>"
      ]
    },
    {
      "cell_type": "markdown",
      "id": "5c0a1bb7-b500-4ffa-9530-d6ac4e7f3989",
      "metadata": {},
      "source": [
        "YOUR SPECIES DESCRIPTION HERE"
      ]
    },
    {
      "cell_type": "markdown",
      "id": "7b733766-e23f-43a2-a7fb-09ce0ddcf059",
      "metadata": {},
      "source": [
        "### Sites\n",
        "\n",
        "<link rel=\"stylesheet\" type=\"text/css\" href=\"./assets/styles.css\"><div class=\"callout callout-style-default callout-titled callout-task\"><div class=\"callout-header\"><div class=\"callout-icon-container\"><i class=\"callout-icon\"></i></div><div class=\"callout-title-container flex-fill\">Try It</div></div><div class=\"callout-body-container callout-body\"><p>Select at least two site to study, such as two of the U.S. National\n",
        "Grasslands. You can download the <a\n",
        "href=\"https://data.fs.usda.gov/geodata/edw/edw_resources/shp/S_USA.NationalGrassland.zip\">USFS\n",
        "National Grassland Units</a> and select your study sites. Generate a\n",
        "site map for each location.</p>\n",
        "<p>When selecting your sites, you might want to look for places that are\n",
        "marginally habitable for this species, since those locations will be\n",
        "most likely to show changes due to climate.</p></div></div>\n",
        "\n",
        "<link rel=\"stylesheet\" type=\"text/css\" href=\"./assets/styles.css\"><div class=\"callout callout-style-default callout-titled callout-respond\"><div class=\"callout-header\"><div class=\"callout-icon-container\"><i class=\"callout-icon\"></i></div><div class=\"callout-title-container flex-fill\">Reflect and Respond</div></div><div class=\"callout-body-container callout-body\"><p>Write a site description for each of your sites, or for all of your\n",
        "sites as a group if you have chosen a large number of linked sites. What\n",
        "differences or trends do you expect to see among your sites?</p></div></div>"
      ]
    },
    {
      "cell_type": "markdown",
      "id": "d4d9ef03-229d-4690-bf1f-2fe93ec4b5f9",
      "metadata": {},
      "source": [
        "YOUR SITE DESCRIPTION HERE"
      ]
    },
    {
      "cell_type": "markdown",
      "id": "e05e6be6-03af-4dea-9fd9-17d2e15417f8",
      "metadata": {},
      "source": [
        "### Time periods\n",
        "\n",
        "In general when studying climate, we are interested in **climate\n",
        "normals**, which are typically calculated from 30 years of data so that\n",
        "they reflect the climate as a whole and not a single year which may be\n",
        "anomalous. So if you are interested in the climate around 2050, download\n",
        "at least data from 2035-2065.\n",
        "\n",
        "<link rel=\"stylesheet\" type=\"text/css\" href=\"./assets/styles.css\"><div class=\"callout callout-style-default callout-titled callout-respond\"><div class=\"callout-header\"><div class=\"callout-icon-container\"><i class=\"callout-icon\"></i></div><div class=\"callout-title-container flex-fill\">Reflect and Respond</div></div><div class=\"callout-body-container callout-body\"><p>Select at least two 30-year time periods to compare, such as\n",
        "historical and 30 years into the future. These time periods should help\n",
        "you to answer your scientific question.</p></div></div>"
      ]
    },
    {
      "cell_type": "markdown",
      "id": "99cfdf6c-5bbc-46ae-a0d1-98888799e552",
      "metadata": {},
      "source": [
        "YOUR TIME PERIODS HERE"
      ]
    },
    {
      "cell_type": "markdown",
      "id": "cf584628-045f-442b-ab2c-73722c363668",
      "metadata": {},
      "source": [
        "### Climate models\n",
        "\n",
        "There is a great deal of uncertainty among the many global climate\n",
        "models available. One way to work with the variety is by using an\n",
        "**ensemble** of models to try to capture that uncertainty. This also\n",
        "gives you an idea of the range of possible values you might expect! To\n",
        "be most efficient with your time and computing resources, you can use a\n",
        "subset of all the climate models available to you. However, for each\n",
        "scenario, you should attempt to include models that are:\n",
        "\n",
        "-   Warm and wet\n",
        "-   Warm and dry\n",
        "-   Cold and wet\n",
        "-   Cold and dry\n",
        "\n",
        "for each of your sites.\n",
        "\n",
        "To figure out which climate models to use, you will need to access\n",
        "summary data near your sites for each of the climate models. You can do\n",
        "this using the [Climate Futures Toolbox Future Climate Scatter\n",
        "tool](https://climatetoolbox.org/tool/Future-Climate-Scatter). There is\n",
        "no need to write code to select your climate models, since this choice\n",
        "is something that requires your judgement and only needs to be done\n",
        "once.\n",
        "\n",
        "If your question requires it, you can also choose to include multiple\n",
        "climate variables, such as temperature and precipitation, and/or\n",
        "multiple emissions scenarios, such as RCP4.5 and RCP8.5.\n",
        "\n",
        "<link rel=\"stylesheet\" type=\"text/css\" href=\"./assets/styles.css\"><div class=\"callout callout-style-default callout-titled callout-task\"><div class=\"callout-header\"><div class=\"callout-icon-container\"><i class=\"callout-icon\"></i></div><div class=\"callout-title-container flex-fill\">Try It</div></div><div class=\"callout-body-container callout-body\"><p>Choose at least 4 climate models that cover the range of possible\n",
        "future climate variability at your sites. How did you choose?</p></div></div>"
      ]
    },
    {
      "cell_type": "markdown",
      "id": "9c200f9f-d61e-4c14-a784-ab734bf6ec95",
      "metadata": {},
      "source": [
        "LIST THE CLIMATE MODELS YOU SELECTED HERE AND CITE THE CLIMATE TOOLBOX"
      ]
    },
    {
      "cell_type": "markdown",
      "id": "b2de1c19-5b83-45dd-a5ab-66b0bc438978",
      "metadata": {},
      "source": [
        "## STEP 2: DATA ACCESS\n",
        "\n",
        "### Soil data\n",
        "\n",
        "The [POLARIS dataset](http://hydrology.cee.duke.edu/POLARIS/) is a\n",
        "convenient way to uniformly access a variety of soil parameters such as\n",
        "pH and percent clay in the US. It is available for a range of depths (in\n",
        "cm) and split into 1x1 degree tiles.\n",
        "\n",
        "<link rel=\"stylesheet\" type=\"text/css\" href=\"./assets/styles.css\"><div class=\"callout callout-style-default callout-titled callout-task\"><div class=\"callout-header\"><div class=\"callout-icon-container\"><i class=\"callout-icon\"></i></div><div class=\"callout-title-container flex-fill\">Try It</div></div><div class=\"callout-body-container callout-body\"><p>Write a <strong>function with a numpy-style docstring</strong> that\n",
        "will download POLARIS data for a particular location, soil parameter,\n",
        "and soil depth. Your function should account for the situation where\n",
        "your site boundary crosses over multiple tiles, and merge the necessary\n",
        "data together.</p>\n",
        "<p>Then, use loops to download and organize the rasters you will need to\n",
        "complete this section. Include soil parameters that will help you to\n",
        "answer your scientific question. We recommend using a soil depth that\n",
        "best corresponds with the rooting depth of your species.</p></div></div>"
      ]
    },
    {
      "cell_type": "code",
      "execution_count": 2,
      "id": "a3800a22",
      "metadata": {
        "highlight": true
      },
      "outputs": [],
      "source": [
        "# Download soil data"
      ]
    },
    {
      "cell_type": "markdown",
      "id": "4aca6fd5-5219-4e04-8ac8-c5a6ecba9d9a",
      "metadata": {},
      "source": [
        "### Topographic data\n",
        "\n",
        "One way to access reliable elevation data is from the [SRTM\n",
        "dataset](https://www.earthdata.nasa.gov/data/instruments/srtm),\n",
        "available through the [earthaccess\n",
        "API](https://earthaccess.readthedocs.io/en/latest/quick-start/).\n",
        "\n",
        "<link rel=\"stylesheet\" type=\"text/css\" href=\"./assets/styles.css\"><div class=\"callout callout-style-default callout-titled callout-task\"><div class=\"callout-header\"><div class=\"callout-icon-container\"><i class=\"callout-icon\"></i></div><div class=\"callout-title-container flex-fill\">Try It</div></div><div class=\"callout-body-container callout-body\"><p>Write a <strong>function with a numpy-style docstring</strong> that\n",
        "will download SRTM elevation data for a particular location and\n",
        "calculate any additional topographic variables you need such as slope or\n",
        "aspect.</p>\n",
        "<p>Then, use loops to download and organize the rasters you will need to\n",
        "complete this section. Include topographic parameters that will help you\n",
        "to answer your scientific question.</p></div></div>\n",
        "\n",
        "> **Warning**\n",
        ">\n",
        "> Be careful when computing the slope from elevation that the units of\n",
        "> elevation match the projection units (e.g. meters and meters, not\n",
        "> meters and degrees). You will need to project the SRTM data to\n",
        "> complete this calculation correctly."
      ]
    },
    {
      "cell_type": "code",
      "execution_count": 3,
      "id": "ff99ab9d",
      "metadata": {
        "highlight": true
      },
      "outputs": [],
      "source": [
        "# Download soil data"
      ]
    },
    {
      "cell_type": "markdown",
      "id": "f006b1d0-e899-4477-b60b-7489a5fa6560",
      "metadata": {},
      "source": [
        "### Climate model data\n",
        "\n",
        "You can use MACAv2 data for historical and future climate data. Be sure\n",
        "to compare at least two 30-year time periods (e.g. historical vs. 10\n",
        "years in the future) for at least four of the CMIP models. Overall, you\n",
        "should be downloading at least 8 climate rasters for each of your sites,\n",
        "for a total of 16. **You will *need* to use loops and/or functions to do\n",
        "this cleanly!**.\n",
        "\n",
        "<link rel=\"stylesheet\" type=\"text/css\" href=\"./assets/styles.css\"><div class=\"callout callout-style-default callout-titled callout-task\"><div class=\"callout-header\"><div class=\"callout-icon-container\"><i class=\"callout-icon\"></i></div><div class=\"callout-title-container flex-fill\">Try It</div></div><div class=\"callout-body-container callout-body\"><p>Write a <strong>function with a numpy-style docstring</strong> that\n",
        "will download MACAv2 data for a particular climate model, emissions\n",
        "scenario, spatial domain, and time frame. Then, use loops to download\n",
        "and organize the 16+ rasters you will need to complete this section. The\n",
        "<a\n",
        "href=\"http://thredds.northwestknowledge.net:8080/thredds/reacch_climate_CMIP5_macav2_catalog2.html\">MACAv2\n",
        "dataset is accessible from their Thredds server</a>. Include an\n",
        "arrangement of sites, models, emissions scenarios, and time periods that\n",
        "will help you to answer your scientific question.</p></div></div>"
      ]
    },
    {
      "cell_type": "code",
      "execution_count": 4,
      "id": "98f0ac7b",
      "metadata": {
        "highlight": true
      },
      "outputs": [],
      "source": [
        "# Download climate data"
      ]
    },
    {
      "cell_type": "markdown",
      "id": "4ee33c63-764e-4065-93c4-ac7e8d383224",
      "metadata": {},
      "source": [
        "<link rel=\"stylesheet\" type=\"text/css\" href=\"./assets/styles.css\"><div class=\"callout callout-style-default callout-titled callout-respond\"><div class=\"callout-header\"><div class=\"callout-icon-container\"><i class=\"callout-icon\"></i></div><div class=\"callout-title-container flex-fill\">Reflect and Respond</div></div><div class=\"callout-body-container callout-body\"><p>Make sure to include a description of the climate data and how you\n",
        "selected your models. Include a citation of the MACAv2 data</p></div></div>\n",
        "\n",
        "YOUR CLIMATE DATA DESCRIPTION AND CITATIONS HERE\n",
        "\n",
        "## STEP 3: HARMONIZE DATA\n",
        "\n",
        "<link rel=\"stylesheet\" type=\"text/css\" href=\"./assets/styles.css\"><div class=\"callout callout-style-default callout-titled callout-task\"><div class=\"callout-header\"><div class=\"callout-icon-container\"><i class=\"callout-icon\"></i></div><div class=\"callout-title-container flex-fill\">Try It</div></div><div class=\"callout-body-container callout-body\"><p>Make sure that the grids for all your data match each other. Check\n",
        "out the <a\n",
        "href=\"https://corteva.github.io/rioxarray/stable/examples/reproject_match.html#Reproject-Match\"><code>ds.rio.reproject_match()</code>\n",
        "method</a> from <code>rioxarray</code>. Make sure to use the data source\n",
        "that has the highest resolution as a template!</p></div></div>\n",
        "\n",
        "> **Warning**\n",
        ">\n",
        "> If you are reprojecting data as you need to here, the order of\n",
        "> operations is important! Recall that reprojecting will typically tilt\n",
        "> your data, leaving narrow sections of the data at the edge blank.\n",
        "> However, to reproject efficiently it is best for the raster to be as\n",
        "> small as possible before performing the operation. We recommend the\n",
        "> following process:\n",
        ">\n",
        ">     1. Crop the data, leaving a buffer around the final boundary\n",
        ">     2. Reproject to match the template grid (this will also crop any leftovers off the image)"
      ]
    },
    {
      "cell_type": "code",
      "execution_count": 5,
      "id": "900431fc",
      "metadata": {
        "highlight": true
      },
      "outputs": [],
      "source": [
        "# Download soil data"
      ]
    },
    {
      "cell_type": "markdown",
      "id": "b46dd20b-8772-46d6-9981-2be1fb91ef1b",
      "metadata": {},
      "source": [
        "## STEP 4: DEVELOP A FUZZY LOGIC MODEL\n",
        "\n",
        "A fuzzy logic model is one that is built on expert knowledge rather than\n",
        "training data. You may wish to use the\n",
        "[`scikit-fuzzy`](https://pythonhosted.org/scikit-fuzzy/) library, which\n",
        "includes many utilities for building this sort of model. In particular,\n",
        "it contains a number of **membership functions** which can convert your\n",
        "data into values from 0 to 1 using information such as, for example, the\n",
        "maximum, minimum, and optimal values for soil pH.\n",
        "\n",
        "<link rel=\"stylesheet\" type=\"text/css\" href=\"./assets/styles.css\"><div class=\"callout callout-style-default callout-titled callout-task\"><div class=\"callout-header\"><div class=\"callout-icon-container\"><i class=\"callout-icon\"></i></div><div class=\"callout-title-container flex-fill\">Try It</div></div><div class=\"callout-body-container callout-body\"><p>To train a fuzzy logic habitat suitability model:</p>\n",
        "<pre><code>1. Research S. nutans, and find out what optimal values are for each variable you are using (e.g. soil pH, slope, and current climatological annual precipitation). \n",
        "2. For each **digital number** in each raster, assign a **continuous** value from 0 to 1 for how close that grid square is to the optimum range (1=optimal, 0=incompatible). \n",
        "3. Combine your layers by multiplying them together. This will give you a single suitability number for each square.\n",
        "4. Optionally, you may apply a suitability threshold to make the most suitable areas pop on your map.</code></pre></div></div>\n",
        "\n",
        "> **Tip**\n",
        ">\n",
        "> If you use mathematical operators on a raster in Python, it will\n",
        "> automatically perform the operation for every number in the raster.\n",
        "> This type of operation is known as a **vectorized** function. **DO NOT\n",
        "> DO THIS WITH A LOOP!**. A vectorized function that operates on the\n",
        "> whole array at once will be much easier and faster."
      ]
    },
    {
      "cell_type": "code",
      "execution_count": 6,
      "id": "cacfdcef",
      "metadata": {
        "highlight": true
      },
      "outputs": [],
      "source": [
        "# Create fuzzy logic suitability model"
      ]
    },
    {
      "cell_type": "markdown",
      "id": "32ef3341-2f6d-4479-ae0d-b6e3c704a624",
      "metadata": {},
      "source": [
        "## STEP 5: PRESENT YOUR RESULTS\n",
        "\n",
        "<link rel=\"stylesheet\" type=\"text/css\" href=\"./assets/styles.css\"><div class=\"callout callout-style-default callout-titled callout-task\"><div class=\"callout-header\"><div class=\"callout-icon-container\"><i class=\"callout-icon\"></i></div><div class=\"callout-title-container flex-fill\">Try It</div></div><div class=\"callout-body-container callout-body\"><p>Generate some plots that show your key findings. Don’t forget to\n",
        "interpret your plots!</p></div></div>"
      ]
    },
    {
      "cell_type": "code",
      "execution_count": 7,
      "id": "0bafdd1b",
      "metadata": {
        "highlight": true
      },
      "outputs": [],
      "source": [
        "# Create plots"
      ]
    },
    {
      "cell_type": "markdown",
      "id": "11ec51a0-63dd-443b-80ae-c9f4c921f7af",
      "metadata": {},
      "source": [
        "YOUR PLOT INTERPRETATION HERE"
      ]
    }
  ],
  "metadata": {
    "kernelspec": {
      "display_name": "earth-analytics-python",
      "language": "python",
      "name": "python3"
    },
    "language_info": {
      "codemirror_mode": {
        "name": "ipython",
        "version": 3
      },
      "file_extension": ".py",
      "mimetype": "text/x-python",
      "name": "python",
      "nbconvert_exporter": "python",
      "pygments_lexer": "ipython3",
      "version": "3.11.10"
    }
  },
  "nbformat": 4,
  "nbformat_minor": 5
}
