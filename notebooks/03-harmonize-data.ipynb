{
  "cells": [
    {
      "cell_type": "markdown",
      "id": "ba9f147b",
      "metadata": {},
      "source": [
        "<span style=\"color: purple\">\n",
        "\n",
        "Load in stored variables:\n",
        "\n",
        "</span>"
      ]
    },
    {
      "cell_type": "code",
      "execution_count": 1,
      "id": "c5bd82db",
      "metadata": {},
      "outputs": [],
      "source": [
        "%store -r data_dir sites_gdf siskiyou_forest_gdf padres_forest_gdf siskiyou_soil_ph_da padres_soil_ph_da siskiyou_srtm_da padres_srtm_da ave_annual_pr_das_list climate_df_list"
      ]
    },
    {
      "cell_type": "markdown",
      "id": "a433c9cd",
      "metadata": {},
      "source": [
        "<span style=\"color: purple\">\n",
        "\n",
        "Import packages:\n",
        "\n",
        "</span>"
      ]
    },
    {
      "cell_type": "code",
      "execution_count": 2,
      "id": "a82b1228",
      "metadata": {},
      "outputs": [],
      "source": [
        "# Import necessary packages\n",
        "import matplotlib.pyplot as plt # Overlay pandas and xarray plots\n",
        "import rioxarray as rxr # Work with raster data\n",
        "import xarray as xr"
      ]
    },
    {
      "cell_type": "markdown",
      "id": "4ee33c63-764e-4065-93c4-ac7e8d383224",
      "metadata": {},
      "source": [
        "## STEP 3: HARMONIZE DATA\n",
        "\n",
        "<link rel=\"stylesheet\" type=\"text/css\" href=\"./assets/styles.css\"><div class=\"callout callout-style-default callout-titled callout-task\"><div class=\"callout-header\"><div class=\"callout-icon-container\"><i class=\"callout-icon\"></i></div><div class=\"callout-title-container flex-fill\">Try It</div></div><div class=\"callout-body-container callout-body\"><p>Make sure that the grids for all your data match each other. Check\n",
        "out the <a\n",
        "href=\"https://corteva.github.io/rioxarray/stable/examples/reproject_match.html#Reproject-Match\"><code>ds.rio.reproject_match()</code>\n",
        "method</a> from <code>rioxarray</code>. Make sure to use the data source\n",
        "that has the highest resolution as a template!</p></div></div>\n",
        "\n",
        "> **Warning**\n",
        ">\n",
        "> If you are reprojecting data as you need to here, the order of\n",
        "> operations is important! Recall that reprojecting will typically tilt\n",
        "> your data, leaving narrow sections of the data at the edge blank.\n",
        "> However, to reproject efficiently it is best for the raster to be as\n",
        "> small as possible before performing the operation. We recommend the\n",
        "> following process:\n",
        ">\n",
        ">     1. Crop the data, leaving a buffer around the final boundary\n",
        ">     2. Reproject to match the template grid (this will also crop any leftovers off the image)"
      ]
    },
    {
      "cell_type": "markdown",
      "id": "ddb3b49b",
      "metadata": {},
      "source": [
        "<span style=\"color: purple\">\n",
        "\n",
        "All DataArrays will be reprojected to the \n",
        "\n",
        "soil data - 30 m resolution\n",
        "\n",
        "SRTM data - 30 m resolution\n",
        "\n",
        "Climate data - either [4 or 6 km](https://climate.northwestknowledge.net/MACA/gallery_info.php)\n",
        "</span>"
      ]
    },
    {
      "cell_type": "code",
      "execution_count": 5,
      "id": "900431fc",
      "metadata": {
        "highlight": true
      },
      "outputs": [],
      "source": [
        "# Download soil data"
      ]
    }
  ],
  "metadata": {
    "kernelspec": {
      "display_name": "earth-analytics-python",
      "language": "python",
      "name": "python3"
    },
    "language_info": {
      "codemirror_mode": {
        "name": "ipython",
        "version": 3
      },
      "file_extension": ".py",
      "mimetype": "text/x-python",
      "name": "python",
      "nbconvert_exporter": "python",
      "pygments_lexer": "ipython3",
      "version": "3.11.10"
    }
  },
  "nbformat": 4,
  "nbformat_minor": 5
}
