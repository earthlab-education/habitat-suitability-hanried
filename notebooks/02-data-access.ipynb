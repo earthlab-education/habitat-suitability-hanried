{
  "cells": [
    {
      "cell_type": "markdown",
      "id": "d4c5eaee",
      "metadata": {},
      "source": [
        "<span style=\"color: purple\">\n",
        "\n",
        "Load in stored variables:\n",
        "\n",
        "</span>"
      ]
    },
    {
      "cell_type": "code",
      "execution_count": 6,
      "id": "a890440c",
      "metadata": {},
      "outputs": [],
      "source": [
        "%store -r data_dir sites_gdf rrs_forest_gdf lp_forest_gdf"
      ]
    },
    {
      "cell_type": "markdown",
      "id": "6dc3dbac",
      "metadata": {},
      "source": [
        "<span style=\"color: purple\">\n",
        "\n",
        "Import packages:\n",
        "\n",
        "</span>"
      ]
    },
    {
      "cell_type": "code",
      "execution_count": 8,
      "id": "b96b3965",
      "metadata": {},
      "outputs": [],
      "source": [
        "# Import necessary packages\n",
        "import os\n",
        "from math import floor, ceil\n",
        "\n",
        "import pandas as pd\n",
        "import matplotlib.pyplot as plt # Overlay pandas and xarray plots\n",
        "import rioxarray as rxr # Work with raster data\n",
        "from rioxarray.merge import merge_arrays # Merge rasters"
      ]
    },
    {
      "cell_type": "markdown",
      "id": "b2de1c19-5b83-45dd-a5ab-66b0bc438978",
      "metadata": {},
      "source": [
        "## STEP 2: DATA ACCESS\n",
        "\n",
        "### Soil data\n",
        "\n",
        "The [POLARIS dataset](http://hydrology.cee.duke.edu/POLARIS/) is a\n",
        "convenient way to uniformly access a variety of soil parameters such as\n",
        "pH and percent clay in the US. It is available for a range of depths (in\n",
        "cm) and split into 1x1 degree tiles.\n",
        "\n",
        "<link rel=\"stylesheet\" type=\"text/css\" href=\"./assets/styles.css\"><div class=\"callout callout-style-default callout-titled callout-task\"><div class=\"callout-header\"><div class=\"callout-icon-container\"><i class=\"callout-icon\"></i></div><div class=\"callout-title-container flex-fill\">Try It</div></div><div class=\"callout-body-container callout-body\"><p>Write a <strong>function with a numpy-style docstring</strong> that\n",
        "will download POLARIS data for a particular location, soil parameter,\n",
        "and soil depth. Your function should account for the situation where\n",
        "your site boundary crosses over multiple tiles, and merge the necessary\n",
        "data together.</p>\n",
        "<p>Then, use loops to download and organize the rasters you will need to\n",
        "complete this section. Include soil parameters that will help you to\n",
        "answer your scientific question. We recommend using a soil depth that\n",
        "best corresponds with the rooting depth of your species.</p></div></div>\n",
        "\n",
        "<span style=\"color: purple\">\n",
        "\n",
        "I will focus on soil pH. According to the [USDA PLANTS Database](https://plants.usda.gov/plant-profile/SESE3/characteristics), *S. sempervirens* prefer a soil pH of 5.0-7.0. Also, their minimum root depth is 40 inches (~102 cm), so I will focus on soil depths of 100-200 cm.\n",
        "\n",
        "</span>"
      ]
    },
    {
      "cell_type": "code",
      "execution_count": 3,
      "id": "a3800a22",
      "metadata": {
        "highlight": true
      },
      "outputs": [],
      "source": [
        "#  Define the URL template to download soil data from POLARIS\n",
        "def soil_url_temp(variable='variable',\n",
        "                  statistic='statistic',\n",
        "                  depth='depth'):\n",
        "    \"\"\"\n",
        "    Create a URL template for downloading soil data from POLARIS.\n",
        "\n",
        "    Parameters\n",
        "    ----------\n",
        "    variable : str\n",
        "        The soil `variable` of interest.\n",
        "    statistic : {'mean', 'mode', 'p5', 'p50', 'p95'}\n",
        "        The `statistic` type of interest.\n",
        "    depth : {'0_5', '5_15', '15_30', '30_60', '60_100', or '100_200'}\n",
        "        The `depth` of interest in cm.\n",
        "\n",
        "    Returns\n",
        "    -------\n",
        "    soil_url_template : str\n",
        "        Template of the URL to download the soil data.\n",
        "    \"\"\"\n",
        "    soil_url_template = (\"http://hydrology.cee.duke.edu/POLARIS/PROPERTIES/\"\n",
        "                    \"v1.0\"\n",
        "                    f\"/{variable}\"\n",
        "                    f\"/{statistic}\"\n",
        "                    f\"/{depth}\"\n",
        "                    \"/lat{min_lat}{max_lat}\"\n",
        "                    \"_lon{min_lon}{max_lon}.tif\")\n",
        "    return soil_url_template"
      ]
    },
    {
      "cell_type": "code",
      "execution_count": 4,
      "id": "e514b36d",
      "metadata": {},
      "outputs": [],
      "source": [
        "# Define site bounds\n",
        "def define_site_bounds(site_gdf):\n",
        "    \"\"\"\n",
        "    Identify the bounds of a geographic site.\n",
        "     \n",
        "    Specifically, this function creates a tuple with\n",
        "    a DataArray of the site bounds and the minimum longitude,\n",
        "    minimum latitude, maximum longitude, and maximum latitude of a site.\n",
        "\n",
        "    Parameters\n",
        "    ----------\n",
        "    site_gdf : GeoDataFrame\n",
        "        The GeoDataFrame of the site of interest.\n",
        "\n",
        "    Returns\n",
        "    -------\n",
        "    site_bounds : DataArray\n",
        "        A DataArray with the minimum and maximum longitude and\n",
        "        minimum and maximum latitude of the site.\n",
        "    site_bounds_min_lon : float\n",
        "        The minimum longitude of the site.\n",
        "    site_bounds_min_lat : float\n",
        "        The minimum latitude of the site.\n",
        "    site_bounds_max_lon : float\n",
        "        The maximum longitude of the site.\n",
        "    site_bounds_max_lat : float\n",
        "        The maximum latitude of the site.\n",
        "    \"\"\"\n",
        "    site_bounds = (site_bounds_min_lon,\n",
        "                   site_bounds_min_lat,\n",
        "                   site_bounds_max_lon,\n",
        "                   site_bounds_max_lat) = (\n",
        "                       site_gdf\n",
        "                       .total_bounds)\n",
        "    return (site_bounds, site_bounds_min_lon, site_bounds_min_lat,\n",
        "    site_bounds_max_lon, site_bounds_max_lat)"
      ]
    },
    {
      "cell_type": "code",
      "execution_count": 5,
      "id": "b79408f1",
      "metadata": {},
      "outputs": [],
      "source": [
        "# Process soil DataArrays\n",
        "def process_soil_da(site_soil_dir,\n",
        "                    soil_url_template,\n",
        "                    site_bounds,\n",
        "                    site_bounds_min_lon,\n",
        "                    site_bounds_min_lat,\n",
        "                    site_bounds_max_lon,\n",
        "                    site_bounds_max_lat,\n",
        "                    variable='variable',\n",
        "                    statistic='statistic',\n",
        "                    depth='depth'):\n",
        "    \"\"\"\n",
        "    Save, open, scale, and crop raster soil data.\n",
        "\n",
        "    Parameters\n",
        "    ----------\n",
        "    site_soil_dir : str\n",
        "        The directory where the soil data will be saved.\n",
        "    soil_url_template : str\n",
        "        Template of the URL to download the soil data.\n",
        "    site_bounds : DataArray\n",
        "        A DataArray with the minimum and maximum longitude and\n",
        "        minimum and maximum latitude of the site.\n",
        "    site_bounds_min_lon : float\n",
        "        The minimum longitude of the site.\n",
        "    site_bounds_min_lat : float\n",
        "        The minimum latitude of the site.\n",
        "    site_bounds_max_lon : float\n",
        "        The maximum longitude of the site.\n",
        "    site_bounds_max_lat : float\n",
        "        The maximum latitude of the site.\n",
        "    variable : str\n",
        "        The soil `variable` of interest.\n",
        "    statistic : {'mean', 'mode', 'p5', 'p50', 'p95'}\n",
        "        The `statistic` type of interest.\n",
        "    depth : {'0_5', '5_15', '15_30', '30_60', '60_100', or '100_200'}\n",
        "        The `depth` of interest in cm.\n",
        "\n",
        "    Returns\n",
        "    -------\n",
        "    site_soil_das : list\n",
        "        A list of DataArrays of soil data for the\n",
        "        different rasters covering the site of interest.\n",
        "    \"\"\"\n",
        "    site_soil_das = []\n",
        "    # List out the soil files for download\n",
        "    for min_lon in range(floor(site_bounds_min_lon),\n",
        "                         ceil(site_bounds_max_lon)):\n",
        "        for min_lat in range(floor(site_bounds_min_lat),\n",
        "                             ceil(site_bounds_max_lat)):\n",
        "            max_lon = min_lon + 1\n",
        "            max_lat = min_lat + 1\n",
        "            soil_url = soil_url_template.format(\n",
        "                min_lat=min_lat,\n",
        "                max_lat=max_lat,\n",
        "                min_lon=min_lon,\n",
        "                max_lon=max_lon)\n",
        "            \n",
        "            # Define file path for saving downloaded raster data\n",
        "            soil_path = os.path.join(site_soil_dir,\n",
        "                                     f\"soil_{variable}_{statistic}_{depth}\"\n",
        "                                     f\"_lat{min_lat}{max_lat}\"\n",
        "                                     f\"_lon{min_lon}{max_lon}.tif\")\n",
        "\n",
        "            if not os.path.exists(soil_path):\n",
        "                # Save raster data to soil path, mask and scale, squeeze\n",
        "                soil_da = rxr.open_rasterio(\n",
        "                    soil_url,\n",
        "                    mask_and_scale=True\n",
        "                    ).squeeze()\n",
        "                soil_da.to_netcdf(soil_path)\n",
        "                print(f'soil_da saved: {soil_path}')\n",
        "            else:\n",
        "                print(f'file already exists: {soil_path}')\n",
        "\n",
        "            # Open and squeeze raster soil data\n",
        "            soil_da = rxr.open_rasterio(\n",
        "                soil_url,\n",
        "                mask_and_scale=True\n",
        "            ).squeeze()\n",
        "\n",
        "            # Crop the raster soil data\n",
        "            cropped_da = soil_da.rio.clip_box(*site_bounds)\n",
        "            site_soil_das.append(cropped_da)\n",
        "            print('Cropped')\n",
        "\n",
        "    return site_soil_das"
      ]
    },
    {
      "cell_type": "code",
      "execution_count": 7,
      "id": "75c42940",
      "metadata": {},
      "outputs": [
        {
          "data": {
            "text/plain": [
              "'C:\\\\Users\\\\riede\\\\earth-analytics\\\\data\\\\spring-2025-habitat-suitability\\\\soil-ph\\\\*.tif'"
            ]
          },
          "execution_count": 7,
          "metadata": {},
          "output_type": "execute_result"
        }
      ],
      "source": [
        "# Define data directory for the all data\n",
        "soil_ph_dir = os.path.join(data_dir, 'soil-ph')\n",
        "\n",
        "os.makedirs(soil_ph_dir, exist_ok=True)\n",
        "\n",
        "soil_ph_pattern = os.path.join (soil_ph_dir, '*.tif')\n",
        "soil_ph_pattern"
      ]
    },
    {
      "cell_type": "code",
      "execution_count": null,
      "id": "5ae740b7",
      "metadata": {},
      "outputs": [
        {
          "ename": "AttributeError",
          "evalue": "'str' object has no attribute 'total_bounds'",
          "output_type": "error",
          "traceback": [
            "\u001b[1;31m---------------------------------------------------------------------------\u001b[0m",
            "\u001b[1;31mAttributeError\u001b[0m                            Traceback (most recent call last)",
            "Cell \u001b[1;32mIn[9], line 13\u001b[0m\n\u001b[0;32m      8\u001b[0m soil_urls \u001b[38;5;241m=\u001b[39m []\n\u001b[0;32m      9\u001b[0m \u001b[38;5;28;01mfor\u001b[39;00m gdf \u001b[38;5;129;01min\u001b[39;00m sites_gdf:\n\u001b[0;32m     10\u001b[0m     bounds_min_lon, bounds_min_lat, bounds_max_lon, bounds_max_lat \u001b[38;5;241m=\u001b[39m (\n\u001b[0;32m     11\u001b[0m     \u001b[43mgdf\u001b[49m\n\u001b[0;32m     12\u001b[0m \u001b[43m    \u001b[49m\u001b[38;5;66;43;03m#.to_crs(ccrs.UTM(zone=14))\u001b[39;49;00m\n\u001b[1;32m---> 13\u001b[0m \u001b[43m    \u001b[49m\u001b[38;5;241;43m.\u001b[39;49m\u001b[43mtotal_bounds\u001b[49m)\n\u001b[0;32m     14\u001b[0m     bounds\u001b[38;5;241m.\u001b[39mappend((bounds_min_lon, bounds_min_lat, bounds_max_lon, bounds_max_lat))\n\u001b[0;32m     16\u001b[0m bounds_df \u001b[38;5;241m=\u001b[39m pd\u001b[38;5;241m.\u001b[39mDataFrame(bounds)\u001b[38;5;241m.\u001b[39mrename(\n\u001b[0;32m     17\u001b[0m     index\u001b[38;5;241m=\u001b[39m{\u001b[38;5;241m0\u001b[39m: \u001b[38;5;124m'\u001b[39m\u001b[38;5;124mRogue River-Siskyou Bounds\u001b[39m\u001b[38;5;124m'\u001b[39m, \u001b[38;5;241m1\u001b[39m: \u001b[38;5;124m'\u001b[39m\u001b[38;5;124mLos Padres Bounds\u001b[39m\u001b[38;5;124m'\u001b[39m},\n\u001b[0;32m     18\u001b[0m     columns\u001b[38;5;241m=\u001b[39m{\u001b[38;5;241m0\u001b[39m: \u001b[38;5;124m'\u001b[39m\u001b[38;5;124mmin_lon\u001b[39m\u001b[38;5;124m'\u001b[39m, \u001b[38;5;241m1\u001b[39m: \u001b[38;5;124m'\u001b[39m\u001b[38;5;124mmin_lat\u001b[39m\u001b[38;5;124m'\u001b[39m, \u001b[38;5;241m2\u001b[39m: \u001b[38;5;124m'\u001b[39m\u001b[38;5;124mmax_lon\u001b[39m\u001b[38;5;124m'\u001b[39m, \u001b[38;5;241m3\u001b[39m: \u001b[38;5;124m'\u001b[39m\u001b[38;5;124mmax_lat\u001b[39m\u001b[38;5;124m'\u001b[39m})\n",
            "\u001b[1;31mAttributeError\u001b[0m: 'str' object has no attribute 'total_bounds'"
          ]
        }
      ],
      "source": [
        "# Loop through bounds of RRS and LP National Forests\n",
        "\n",
        "# c_s_grasslands_gdf = grasslands_gdf[grasslands_gdf['GRASSLANDN'].isin(['Sheyenne National Grassland', 'Caddo National Grassland'])]\n",
        "# c_s_grasslands_gdf = [caddo_grasslands_gdf, sheyenne_grasslands_gdf]\n",
        "# c_s_grasslands_gdf\n",
        "\n",
        "bounds = []\n",
        "soil_urls = []\n",
        "for gdf in sites_gdf:\n",
        "    bounds_min_lon, bounds_min_lat, bounds_max_lon, bounds_max_lat = (\n",
        "    gdf.total_bounds)\n",
        "    bounds.append((bounds_min_lon, bounds_min_lat, bounds_max_lon, bounds_max_lat))\n",
        "    \n",
        "bounds_df = pd.DataFrame(bounds).rename(\n",
        "    index={0: 'Rogue River-Siskyou Bounds', 1: 'Los Padres Bounds'},\n",
        "    columns={0: 'min_lon', 1: 'min_lat', 2: 'max_lon', 3: 'max_lat'})\n",
        "display(bounds_df)\n",
        "\n",
        "#  Define the Caddo download URL template for the soil data\n",
        "soil_url_template = (\"http://hydrology.cee.duke.edu/POLARIS/PROPERTIES/\"\n",
        "            \"v1.0\"\n",
        "            \"/ph\"\n",
        "            \"/mean\"\n",
        "            \"/60_100\"\n",
        "            \"/lat{min_lat}{max_lat}_lon{min_lon}{max_lon}.tif\")\n",
        "display(soil_url_template)\n",
        "\n",
        "# Maybe turn soil_urls into a dictionary and instead of appending in line 40 add results to dictionary\n",
        "# Check notebook 92 from redlining code\n",
        "soil_urls = []\n",
        "for site_name, site_bounds_df in bounds_df.groupby(level=0):\n",
        "    print(site_name)\n",
        "    for min_lon in range(floor(site_bounds_df.min_lon), ceil(site_bounds_df.max_lon)):\n",
        "        for min_lat in range(floor(site_bounds_df.min_lat), ceil(site_bounds_df.max_lat)):\n",
        "            print(min_lon, min_lat)\n",
        "            soil_url = soil_url_template.format(\n",
        "                min_lat=min_lat, max_lat=min_lat+1,\n",
        "                min_lon=min_lon, max_lon=min_lon+1)\n",
        "            soil_urls.append(soil_url)\n",
        "display(soil_urls)"
      ]
    },
    {
      "cell_type": "code",
      "execution_count": null,
      "id": "5c1afb20",
      "metadata": {},
      "outputs": [
        {
          "name": "stdout",
          "output_type": "stream",
          "text": [
            "<class 'tuple'>\n",
            "<class 'tuple'>\n",
            "<class 'tuple'>\n"
          ]
        }
      ],
      "source": [
        "for gdf in sites_gdf.iterrows():\n",
        "    print(gdf)"
      ]
    },
    {
      "cell_type": "code",
      "execution_count": 19,
      "id": "8c238abd",
      "metadata": {},
      "outputs": [
        {
          "data": {
            "text/html": [
              "<div>\n",
              "<style scoped>\n",
              "    .dataframe tbody tr th:only-of-type {\n",
              "        vertical-align: middle;\n",
              "    }\n",
              "\n",
              "    .dataframe tbody tr th {\n",
              "        vertical-align: top;\n",
              "    }\n",
              "\n",
              "    .dataframe thead th {\n",
              "        text-align: right;\n",
              "    }\n",
              "</style>\n",
              "<table border=\"1\" class=\"dataframe\">\n",
              "  <thead>\n",
              "    <tr style=\"text-align: right;\">\n",
              "      <th></th>\n",
              "      <th>OBJECTID</th>\n",
              "      <th>PROCLAIMED</th>\n",
              "      <th>FORESTNAME</th>\n",
              "      <th>GIS_ACRES</th>\n",
              "      <th>SHAPEAREA</th>\n",
              "      <th>SHAPELEN</th>\n",
              "      <th>geometry</th>\n",
              "    </tr>\n",
              "  </thead>\n",
              "  <tbody>\n",
              "    <tr>\n",
              "      <th>0</th>\n",
              "      <td>200683</td>\n",
              "      <td>295464010328</td>\n",
              "      <td>Siskiyou National Forest</td>\n",
              "      <td>1161692.775</td>\n",
              "      <td>0.513890</td>\n",
              "      <td>6.990039</td>\n",
              "      <td>MULTIPOLYGON (((-124.02284 42.83323, -124.0209...</td>\n",
              "    </tr>\n",
              "    <tr>\n",
              "      <th>1</th>\n",
              "      <td>200684</td>\n",
              "      <td>295465010328</td>\n",
              "      <td>Rogue River National Forest</td>\n",
              "      <td>680891.523</td>\n",
              "      <td>0.301755</td>\n",
              "      <td>7.115616</td>\n",
              "      <td>MULTIPOLYGON (((-122.27322 43.13317, -122.2716...</td>\n",
              "    </tr>\n",
              "    <tr>\n",
              "      <th>2</th>\n",
              "      <td>200607</td>\n",
              "      <td>295387010328</td>\n",
              "      <td>Los Padres National Forest</td>\n",
              "      <td>1956740.523</td>\n",
              "      <td>0.782005</td>\n",
              "      <td>12.961269</td>\n",
              "      <td>MULTIPOLYGON (((-120.74838 35.44383, -120.7484...</td>\n",
              "    </tr>\n",
              "  </tbody>\n",
              "</table>\n",
              "</div>"
            ],
            "text/plain": [
              "   OBJECTID    PROCLAIMED                   FORESTNAME    GIS_ACRES  \\\n",
              "0    200683  295464010328     Siskiyou National Forest  1161692.775   \n",
              "1    200684  295465010328  Rogue River National Forest   680891.523   \n",
              "2    200607  295387010328   Los Padres National Forest  1956740.523   \n",
              "\n",
              "   SHAPEAREA   SHAPELEN                                           geometry  \n",
              "0   0.513890   6.990039  MULTIPOLYGON (((-124.02284 42.83323, -124.0209...  \n",
              "1   0.301755   7.115616  MULTIPOLYGON (((-122.27322 43.13317, -122.2716...  \n",
              "2   0.782005  12.961269  MULTIPOLYGON (((-120.74838 35.44383, -120.7484...  "
            ]
          },
          "execution_count": 19,
          "metadata": {},
          "output_type": "execute_result"
        }
      ],
      "source": [
        "sites_gdf"
      ]
    },
    {
      "cell_type": "markdown",
      "id": "4aca6fd5-5219-4e04-8ac8-c5a6ecba9d9a",
      "metadata": {},
      "source": [
        "### Topographic data\n",
        "\n",
        "One way to access reliable elevation data is from the [SRTM\n",
        "dataset](https://www.earthdata.nasa.gov/data/instruments/srtm),\n",
        "available through the [earthaccess\n",
        "API](https://earthaccess.readthedocs.io/en/latest/quick-start/).\n",
        "\n",
        "<link rel=\"stylesheet\" type=\"text/css\" href=\"./assets/styles.css\"><div class=\"callout callout-style-default callout-titled callout-task\"><div class=\"callout-header\"><div class=\"callout-icon-container\"><i class=\"callout-icon\"></i></div><div class=\"callout-title-container flex-fill\">Try It</div></div><div class=\"callout-body-container callout-body\"><p>Write a <strong>function with a numpy-style docstring</strong> that\n",
        "will download SRTM elevation data for a particular location and\n",
        "calculate any additional topographic variables you need such as slope or\n",
        "aspect.</p>\n",
        "<p>Then, use loops to download and organize the rasters you will need to\n",
        "complete this section. Include topographic parameters that will help you\n",
        "to answer your scientific question.</p></div></div>\n",
        "\n",
        "> **Warning**\n",
        ">\n",
        "> Be careful when computing the slope from elevation that the units of\n",
        "> elevation match the projection units (e.g. meters and meters, not\n",
        "> meters and degrees). You will need to project the SRTM data to\n",
        "> complete this calculation correctly."
      ]
    },
    {
      "cell_type": "code",
      "execution_count": 3,
      "id": "ff99ab9d",
      "metadata": {
        "highlight": true
      },
      "outputs": [],
      "source": [
        "# Download soil data"
      ]
    },
    {
      "cell_type": "markdown",
      "id": "f006b1d0-e899-4477-b60b-7489a5fa6560",
      "metadata": {},
      "source": [
        "### Climate model data\n",
        "\n",
        "You can use MACAv2 data for historical and future climate data. Be sure\n",
        "to compare at least two 30-year time periods (e.g. historical vs. 10\n",
        "years in the future) for at least four of the CMIP models. Overall, you\n",
        "should be downloading at least 8 climate rasters for each of your sites,\n",
        "for a total of 16. **You will *need* to use loops and/or functions to do\n",
        "this cleanly!**.\n",
        "\n",
        "<link rel=\"stylesheet\" type=\"text/css\" href=\"./assets/styles.css\"><div class=\"callout callout-style-default callout-titled callout-task\"><div class=\"callout-header\"><div class=\"callout-icon-container\"><i class=\"callout-icon\"></i></div><div class=\"callout-title-container flex-fill\">Try It</div></div><div class=\"callout-body-container callout-body\"><p>Write a <strong>function with a numpy-style docstring</strong> that\n",
        "will download MACAv2 data for a particular climate model, emissions\n",
        "scenario, spatial domain, and time frame. Then, use loops to download\n",
        "and organize the 16+ rasters you will need to complete this section. The\n",
        "<a\n",
        "href=\"http://thredds.northwestknowledge.net:8080/thredds/reacch_climate_CMIP5_macav2_catalog2.html\">MACAv2\n",
        "dataset is accessible from their Thredds server</a>. Include an\n",
        "arrangement of sites, models, emissions scenarios, and time periods that\n",
        "will help you to answer your scientific question.</p></div></div>"
      ]
    },
    {
      "cell_type": "code",
      "execution_count": 4,
      "id": "98f0ac7b",
      "metadata": {
        "highlight": true
      },
      "outputs": [],
      "source": [
        "# Download climate data"
      ]
    },
    {
      "cell_type": "markdown",
      "id": "4ee33c63-764e-4065-93c4-ac7e8d383224",
      "metadata": {},
      "source": [
        "<link rel=\"stylesheet\" type=\"text/css\" href=\"./assets/styles.css\"><div class=\"callout callout-style-default callout-titled callout-respond\"><div class=\"callout-header\"><div class=\"callout-icon-container\"><i class=\"callout-icon\"></i></div><div class=\"callout-title-container flex-fill\">Reflect and Respond</div></div><div class=\"callout-body-container callout-body\"><p>Make sure to include a description of the climate data and how you\n",
        "selected your models. Include a citation of the MACAv2 data</p></div></div>\n",
        "\n",
        "YOUR CLIMATE DATA DESCRIPTION AND CITATIONS HERE"
      ]
    }
  ],
  "metadata": {
    "kernelspec": {
      "display_name": "earth-analytics-python",
      "language": "python",
      "name": "python3"
    },
    "language_info": {
      "codemirror_mode": {
        "name": "ipython",
        "version": 3
      },
      "file_extension": ".py",
      "mimetype": "text/x-python",
      "name": "python",
      "nbconvert_exporter": "python",
      "pygments_lexer": "ipython3",
      "version": "3.11.10"
    }
  },
  "nbformat": 4,
  "nbformat_minor": 5
}
