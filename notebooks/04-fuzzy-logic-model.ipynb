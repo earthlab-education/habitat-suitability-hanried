{
  "cells": [
    {
      "cell_type": "markdown",
      "id": "b46dd20b-8772-46d6-9981-2be1fb91ef1b",
      "metadata": {},
      "source": [
        "## STEP 4: DEVELOP A FUZZY LOGIC MODEL\n",
        "\n",
        "A fuzzy logic model is one that is built on expert knowledge rather than\n",
        "training data. You may wish to use the\n",
        "[`scikit-fuzzy`](https://pythonhosted.org/scikit-fuzzy/) library, which\n",
        "includes many utilities for building this sort of model. In particular,\n",
        "it contains a number of **membership functions** which can convert your\n",
        "data into values from 0 to 1 using information such as, for example, the\n",
        "maximum, minimum, and optimal values for soil pH.\n",
        "\n",
        "<link rel=\"stylesheet\" type=\"text/css\" href=\"./assets/styles.css\"><div class=\"callout callout-style-default callout-titled callout-task\"><div class=\"callout-header\"><div class=\"callout-icon-container\"><i class=\"callout-icon\"></i></div><div class=\"callout-title-container flex-fill\">Try It</div></div><div class=\"callout-body-container callout-body\"><p>To train a fuzzy logic habitat suitability model:</p>\n",
        "<pre><code>1. Research S. nutans, and find out what optimal values are for each variable you are using (e.g. soil pH, slope, and current climatological annual precipitation). \n",
        "2. For each **digital number** in each raster, assign a **continuous** value from 0 to 1 for how close that grid square is to the optimum range (1=optimal, 0=incompatible). \n",
        "3. Combine your layers by multiplying them together. This will give you a single suitability number for each square.\n",
        "4. Optionally, you may apply a suitability threshold to make the most suitable areas pop on your map.</code></pre></div></div>\n",
        "\n",
        "> **Tip**\n",
        ">\n",
        "> If you use mathematical operators on a raster in Python, it will\n",
        "> automatically perform the operation for every number in the raster.\n",
        "> This type of operation is known as a **vectorized** function. **DO NOT\n",
        "> DO THIS WITH A LOOP!**. A vectorized function that operates on the\n",
        "> whole array at once will be much easier and faster."
      ]
    },
    {
      "cell_type": "code",
      "execution_count": 6,
      "id": "cacfdcef",
      "metadata": {
        "highlight": true
      },
      "outputs": [],
      "source": [
        "# Create fuzzy logic suitability model"
      ]
    }
  ],
  "metadata": {
    "kernelspec": {
      "display_name": "earth-analytics-python",
      "language": "python",
      "name": "python3"
    },
    "language_info": {
      "codemirror_mode": {
        "name": "ipython",
        "version": 3
      },
      "file_extension": ".py",
      "mimetype": "text/x-python",
      "name": "python",
      "nbconvert_exporter": "python",
      "pygments_lexer": "ipython3",
      "version": "3.11.10"
    }
  },
  "nbformat": 4,
  "nbformat_minor": 5
}
