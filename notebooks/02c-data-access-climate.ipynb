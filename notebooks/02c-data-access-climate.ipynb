{
 "cells": [
  {
   "cell_type": "markdown",
   "metadata": {},
   "source": [
    "<span style=\"color: purple\">\n",
    "\n",
    "Load in stored variables:\n",
    "\n",
    "</span>"
   ]
  },
  {
   "cell_type": "code",
   "execution_count": null,
   "metadata": {},
   "outputs": [],
   "source": [
    "%store -r data_dir sites_gdf siskiyou_forest_gdf padres_forest_gdf"
   ]
  },
  {
   "cell_type": "markdown",
   "metadata": {},
   "source": [
    "<span style=\"color: purple\">\n",
    "\n",
    "Import packages:\n",
    "\n",
    "</span>"
   ]
  },
  {
   "cell_type": "code",
   "execution_count": null,
   "metadata": {},
   "outputs": [
    {
     "name": "stderr",
     "output_type": "stream",
     "text": [
      "c:\\Users\\riede\\miniconda3\\envs\\earth-analytics-python\\Lib\\site-packages\\dask\\dataframe\\__init__.py:42: FutureWarning: \n",
      "Dask dataframe query planning is disabled because dask-expr is not installed.\n",
      "\n",
      "You can install it with `pip install dask[dataframe]` or `conda install dask`.\n",
      "This will raise in a future version.\n",
      "\n",
      "  warnings.warn(msg, FutureWarning)\n"
     ]
    }
   ],
   "source": [
    "# Import necessary packages\n",
    "import os\n",
    "\n",
    "import matplotlib.pyplot as plt # Overlay pandas and xarray plots\n",
    "import pandas as pd # Aggregating and data manipulation\n",
    "import xarray as xr"
   ]
  },
  {
   "cell_type": "markdown",
   "metadata": {},
   "source": [
    "## STEP 2c: DATA ACCESS - CLIMATE MODELS\n",
    "\n",
    "You can use MACAv2 data for historical and future climate data. Be sure\n",
    "to compare at least two 30-year time periods (e.g. historical vs. 10\n",
    "years in the future) for at least four of the CMIP models. Overall, you\n",
    "should be downloading at least 8 climate rasters for each of your sites,\n",
    "for a total of 16. **You will *need* to use loops and/or functions to do\n",
    "this cleanly!**.\n",
    "\n",
    "<link rel=\"stylesheet\" type=\"text/css\" href=\"./assets/styles.css\"><div class=\"callout callout-style-default callout-titled callout-task\"><div class=\"callout-header\"><div class=\"callout-icon-container\"><i class=\"callout-icon\"></i></div><div class=\"callout-title-container flex-fill\">Try It</div></div><div class=\"callout-body-container callout-body\"><p>Write a <strong>function with a numpy-style docstring</strong> that\n",
    "will download MACAv2 data for a particular climate model, emissions\n",
    "scenario, spatial domain, and time frame. Then, use loops to download\n",
    "and organize the 16+ rasters you will need to complete this section. The\n",
    "<a\n",
    "href=\"http://thredds.northwestknowledge.net:8080/thredds/reacch_climate_CMIP5_macav2_catalog2.html\">MACAv2\n",
    "dataset is accessible from their Thredds server</a>. Include an\n",
    "arrangement of sites, models, emissions scenarios, and time periods that\n",
    "will help you to answer your scientific question.</p></div></div>"
   ]
  },
  {
   "cell_type": "markdown",
   "metadata": {},
   "source": [
    "<span style=\"color: purple\">\n",
    "\n",
    "List of climate models:\n",
    "\n",
    "</span>\n",
    "\n",
    "<span style=\"color: magenta\">\n",
    "\n",
    "* Warm and wet: CanESM2\n",
    "\n",
    "</span>\n",
    "\n",
    "<span style=\"color: limegreen\">\n",
    "\n",
    "* Warm and dry: MIROC-ESM-CHEM\n",
    "\n",
    "</span>\n",
    "\n",
    "<span style=\"color: teal\">\n",
    "\n",
    "* Cold and wet: MRI-CGCM3\n",
    "\n",
    "</span>\n",
    "\n",
    "<span style=\"color: black\">\n",
    "\n",
    "* Cold and dry: GFDL-ESM2M\n",
    "\n",
    "</span>\n",
    "\n",
    "<span style=\"color: purple\">"
   ]
  },
  {
   "cell_type": "code",
   "execution_count": null,
   "metadata": {},
   "outputs": [],
   "source": [
    "# Make MACA data directory\n",
    "maca_dir = os.path.join(data_dir, 'maca-dir')\n",
    "os.makedirs(maca_dir, exist_ok=True)\n",
    "maca_dir\n",
    "\n",
    "maca_pattern = os.path.join(maca_dir, '*.nc')\n",
    "maca_pattern"
   ]
  },
  {
   "cell_type": "code",
   "execution_count": null,
   "metadata": {},
   "outputs": [],
   "source": [
    "# Define function to convert longitude/latitude\n",
    "def convert_longitude(longitude):\n",
    "    \"\"\"\n",
    "    Convert longitude range from 0-360 to -180-180\n",
    "    \n",
    "    Parameters\n",
    "    ----------\n",
    "    longitude : float\n",
    "        `longitude` values of dataset\n",
    "    \n",
    "    Returns\n",
    "    -------\n",
    "    longitude : float\n",
    "        Longitude values converted from 0-360 to -180-180\"\"\"\n",
    "    return (longitude - 360) if longitude > 180 else longitude"
   ]
  },
  {
   "cell_type": "code",
   "execution_count": null,
   "metadata": {},
   "outputs": [],
   "source": [
    "maca_da_list = []\n",
    "for site_name, site_gdf in {\n",
    "    'SheyenneGrasslands': sheyenne_grasslands_gdf,\n",
    "    'CaddoGrasslands': caddo_grasslands_gdf}.items():\n",
    "    for rcp_value in ['rcp85', 'rcp45']:\n",
    "        # Define MACA url\n",
    "        maca_url = (\n",
    "            'http://thredds.northwestknowledge.net:8080/thredds/dodsC'\n",
    "            '/MACAV2/CanESM2'\n",
    "            '/macav2metdata_pr_CanESM2_r1i1p1'\n",
    "            f'_{rcp_value}'\n",
    "            '_2076_2080_CONUS'\n",
    "            '_monthly.nc') \n",
    "\n",
    "        # Only download MACA data once\n",
    "        maca_path = os.path.join(maca_dir, f'maca_{site_name}_{rcp_value}_2076_2080_CONUS_monthly.nc')\n",
    "        print(maca_path)\n",
    "        if not os.path.exists(maca_path):\n",
    "             maca_da = xr.open_dataset(maca_url).squeeze().precipitation\n",
    "             maca_da.to_netcdf(maca_path)\n",
    "\n",
    "        # Open & Squeeze MACA dataset\n",
    "        maca_da = xr.open_dataset(maca_path).squeeze().precipitation\n",
    "\n",
    "        # Define bounds\n",
    "        bounds_maca = (site_gdf\n",
    "                        .to_crs(maca_da.rio.crs)\n",
    "                        .total_bounds)\n",
    "\n",
    "        # Change maca_ds longitude values to match the grasslands gdfs\n",
    "        maca_da = maca_da.assign_coords(\n",
    "            lon=(\"lon\", [convert_longitude(l) for l in maca_da.lon.values]))\n",
    "\n",
    "        # Set spatial dimensions of maca_da\n",
    "        maca_da = maca_da.rio.set_spatial_dims(x_dim='lon', y_dim='lat')\n",
    "\n",
    "        # Crop maca_da\n",
    "        maca_da = maca_da.rio.clip_box(*bounds_maca)\n",
    "        maca_da_list.append(dict(\n",
    "            site_name=site_name,\n",
    "            rcp_value=rcp_value,\n",
    "            da=maca_da))\n",
    "\n",
    "maca_df = pd.DataFrame(maca_da_list)\n",
    "\n",
    "# Display maca_df w/o DataArray column\n",
    "display(maca_df.drop('da', axis='columns'))\n",
    "\n",
    "# Pull out the data array for the first row\n",
    "maca_df.da.values[0]"
   ]
  },
  {
   "cell_type": "markdown",
   "metadata": {},
   "source": [
    "<link rel=\"stylesheet\" type=\"text/css\" href=\"./assets/styles.css\"><div class=\"callout callout-style-default callout-titled callout-respond\"><div class=\"callout-header\"><div class=\"callout-icon-container\"><i class=\"callout-icon\"></i></div><div class=\"callout-title-container flex-fill\">Reflect and Respond</div></div><div class=\"callout-body-container callout-body\"><p>Make sure to include a description of the climate data and how you\n",
    "selected your models. Include a citation of the MACAv2 data</p></div></div>\n",
    "\n",
    "YOUR CLIMATE DATA DESCRIPTION AND CITATIONS HERE"
   ]
  }
 ],
 "metadata": {
  "language_info": {
   "name": "python"
  }
 },
 "nbformat": 4,
 "nbformat_minor": 2
}
